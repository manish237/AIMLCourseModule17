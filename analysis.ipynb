{
 "cells": [
  {
   "cell_type": "markdown",
   "metadata": {},
   "source": [
    "# Practical Application III: Comparing Classifiers\n",
    "\n",
    "**Overview**: In this practical application, your goal is to compare the performance of the classifiers we encountered in this section, namely K Nearest Neighbor, Logistic Regression, Decision Trees, and Support Vector Machines.  We will utilize a dataset related to marketing bank products over the telephone.  \n",
    "\n"
   ]
  },
  {
   "cell_type": "markdown",
   "metadata": {},
   "source": [
    "### Getting Started\n",
    "\n",
    "Our dataset comes from the UCI Machine Learning repository [link](https://archive.ics.uci.edu/ml/datasets/bank+marketing).  The data is from a Portugese banking institution and is a collection of the results of multiple marketing campaigns.  We will make use of the article accompanying the dataset [here](CRISP-DM-BANK.pdf) for more information on the data and features.\n",
    "\n"
   ]
  },
  {
   "cell_type": "markdown",
   "metadata": {},
   "source": [
    "### Problem 1: Understanding the Data\n",
    "\n",
    "To gain a better understanding of the data, please read the information provided in the UCI link above, and examine the **Materials and Methods** section of the paper.  How many marketing campaigns does this data represent?"
   ]
  },
  {
   "cell_type": "markdown",
   "metadata": {},
   "source": [
    "##### The dataset collected is related to 17 campaigns that occurred between May 2008 and November 2010, corresponding to a total of 79354 contacts."
   ]
  },
  {
   "cell_type": "markdown",
   "metadata": {},
   "source": [
    "### Problem 2: Read in the Data\n",
    "\n",
    "Use pandas to read in the dataset `bank-additional-full.csv` and assign to a meaningful variable name."
   ]
  },
  {
   "cell_type": "code",
   "execution_count": 99,
   "metadata": {},
   "outputs": [],
   "source": [
    "import pandas as pd\n",
    "import numpy as np\n",
    "import matplotlib.pyplot as plt\n",
    "import seaborn as sns\n",
    "import numpy as np\n",
    "import time\n",
    "\n",
    "from sklearn.preprocessing import StandardScaler, OneHotEncoder, MinMaxScaler\n",
    "from sklearn.pipeline import Pipeline\n",
    "from sklearn.compose import make_column_transformer\n",
    "from sklearn.neighbors import KNeighborsClassifier\n",
    "from sklearn.model_selection import train_test_split, GridSearchCV, RandomizedSearchCV\n",
    "from sklearn.linear_model import LinearRegression, Ridge, Lasso\n",
    "from statsmodels.stats.outliers_influence import variance_inflation_factor\n",
    "from sklearn.linear_model import LogisticRegression\n",
    "from sklearn.neighbors import KNeighborsClassifier\n",
    "from sklearn.tree import DecisionTreeClassifier\n",
    "from sklearn.svm import SVC\n",
    "from sklearn.pipeline import Pipeline\n",
    "from sklearn.metrics import accuracy_score,precision_score,recall_score,f1_score\n",
    "from sklearn.metrics import confusion_matrix, precision_score, recall_score, accuracy_score, plot_confusion_matrix, ConfusionMatrixDisplay\n",
    "from sklearn.feature_selection import SelectFromModel\n",
    "from sklearn.tree import DecisionTreeClassifier\n",
    "\n",
    "import warnings\n",
    "warnings.filterwarnings('ignore')"
   ]
  },
  {
   "cell_type": "code",
   "execution_count": 2,
   "metadata": {},
   "outputs": [],
   "source": [
    "df = pd.read_csv('data/bank-additional-full.csv', sep = ';')"
   ]
  },
  {
   "cell_type": "code",
   "execution_count": 3,
   "metadata": {},
   "outputs": [
    {
     "data": {
      "text/html": [
       "<div>\n",
       "<style scoped>\n",
       "    .dataframe tbody tr th:only-of-type {\n",
       "        vertical-align: middle;\n",
       "    }\n",
       "\n",
       "    .dataframe tbody tr th {\n",
       "        vertical-align: top;\n",
       "    }\n",
       "\n",
       "    .dataframe thead th {\n",
       "        text-align: right;\n",
       "    }\n",
       "</style>\n",
       "<table border=\"1\" class=\"dataframe\">\n",
       "  <thead>\n",
       "    <tr style=\"text-align: right;\">\n",
       "      <th></th>\n",
       "      <th>age</th>\n",
       "      <th>job</th>\n",
       "      <th>marital</th>\n",
       "      <th>education</th>\n",
       "      <th>default</th>\n",
       "      <th>housing</th>\n",
       "      <th>loan</th>\n",
       "      <th>contact</th>\n",
       "      <th>month</th>\n",
       "      <th>day_of_week</th>\n",
       "      <th>...</th>\n",
       "      <th>campaign</th>\n",
       "      <th>pdays</th>\n",
       "      <th>previous</th>\n",
       "      <th>poutcome</th>\n",
       "      <th>emp.var.rate</th>\n",
       "      <th>cons.price.idx</th>\n",
       "      <th>cons.conf.idx</th>\n",
       "      <th>euribor3m</th>\n",
       "      <th>nr.employed</th>\n",
       "      <th>y</th>\n",
       "    </tr>\n",
       "  </thead>\n",
       "  <tbody>\n",
       "    <tr>\n",
       "      <th>0</th>\n",
       "      <td>56</td>\n",
       "      <td>housemaid</td>\n",
       "      <td>married</td>\n",
       "      <td>basic.4y</td>\n",
       "      <td>no</td>\n",
       "      <td>no</td>\n",
       "      <td>no</td>\n",
       "      <td>telephone</td>\n",
       "      <td>may</td>\n",
       "      <td>mon</td>\n",
       "      <td>...</td>\n",
       "      <td>1</td>\n",
       "      <td>999</td>\n",
       "      <td>0</td>\n",
       "      <td>nonexistent</td>\n",
       "      <td>1.1</td>\n",
       "      <td>93.994</td>\n",
       "      <td>-36.4</td>\n",
       "      <td>4.857</td>\n",
       "      <td>5191.0</td>\n",
       "      <td>no</td>\n",
       "    </tr>\n",
       "    <tr>\n",
       "      <th>1</th>\n",
       "      <td>57</td>\n",
       "      <td>services</td>\n",
       "      <td>married</td>\n",
       "      <td>high.school</td>\n",
       "      <td>unknown</td>\n",
       "      <td>no</td>\n",
       "      <td>no</td>\n",
       "      <td>telephone</td>\n",
       "      <td>may</td>\n",
       "      <td>mon</td>\n",
       "      <td>...</td>\n",
       "      <td>1</td>\n",
       "      <td>999</td>\n",
       "      <td>0</td>\n",
       "      <td>nonexistent</td>\n",
       "      <td>1.1</td>\n",
       "      <td>93.994</td>\n",
       "      <td>-36.4</td>\n",
       "      <td>4.857</td>\n",
       "      <td>5191.0</td>\n",
       "      <td>no</td>\n",
       "    </tr>\n",
       "    <tr>\n",
       "      <th>2</th>\n",
       "      <td>37</td>\n",
       "      <td>services</td>\n",
       "      <td>married</td>\n",
       "      <td>high.school</td>\n",
       "      <td>no</td>\n",
       "      <td>yes</td>\n",
       "      <td>no</td>\n",
       "      <td>telephone</td>\n",
       "      <td>may</td>\n",
       "      <td>mon</td>\n",
       "      <td>...</td>\n",
       "      <td>1</td>\n",
       "      <td>999</td>\n",
       "      <td>0</td>\n",
       "      <td>nonexistent</td>\n",
       "      <td>1.1</td>\n",
       "      <td>93.994</td>\n",
       "      <td>-36.4</td>\n",
       "      <td>4.857</td>\n",
       "      <td>5191.0</td>\n",
       "      <td>no</td>\n",
       "    </tr>\n",
       "    <tr>\n",
       "      <th>3</th>\n",
       "      <td>40</td>\n",
       "      <td>admin.</td>\n",
       "      <td>married</td>\n",
       "      <td>basic.6y</td>\n",
       "      <td>no</td>\n",
       "      <td>no</td>\n",
       "      <td>no</td>\n",
       "      <td>telephone</td>\n",
       "      <td>may</td>\n",
       "      <td>mon</td>\n",
       "      <td>...</td>\n",
       "      <td>1</td>\n",
       "      <td>999</td>\n",
       "      <td>0</td>\n",
       "      <td>nonexistent</td>\n",
       "      <td>1.1</td>\n",
       "      <td>93.994</td>\n",
       "      <td>-36.4</td>\n",
       "      <td>4.857</td>\n",
       "      <td>5191.0</td>\n",
       "      <td>no</td>\n",
       "    </tr>\n",
       "    <tr>\n",
       "      <th>4</th>\n",
       "      <td>56</td>\n",
       "      <td>services</td>\n",
       "      <td>married</td>\n",
       "      <td>high.school</td>\n",
       "      <td>no</td>\n",
       "      <td>no</td>\n",
       "      <td>yes</td>\n",
       "      <td>telephone</td>\n",
       "      <td>may</td>\n",
       "      <td>mon</td>\n",
       "      <td>...</td>\n",
       "      <td>1</td>\n",
       "      <td>999</td>\n",
       "      <td>0</td>\n",
       "      <td>nonexistent</td>\n",
       "      <td>1.1</td>\n",
       "      <td>93.994</td>\n",
       "      <td>-36.4</td>\n",
       "      <td>4.857</td>\n",
       "      <td>5191.0</td>\n",
       "      <td>no</td>\n",
       "    </tr>\n",
       "  </tbody>\n",
       "</table>\n",
       "<p>5 rows × 21 columns</p>\n",
       "</div>"
      ],
      "text/plain": [
       "   age        job  marital    education  default housing loan    contact  \\\n",
       "0   56  housemaid  married     basic.4y       no      no   no  telephone   \n",
       "1   57   services  married  high.school  unknown      no   no  telephone   \n",
       "2   37   services  married  high.school       no     yes   no  telephone   \n",
       "3   40     admin.  married     basic.6y       no      no   no  telephone   \n",
       "4   56   services  married  high.school       no      no  yes  telephone   \n",
       "\n",
       "  month day_of_week  ...  campaign  pdays  previous     poutcome emp.var.rate  \\\n",
       "0   may         mon  ...         1    999         0  nonexistent          1.1   \n",
       "1   may         mon  ...         1    999         0  nonexistent          1.1   \n",
       "2   may         mon  ...         1    999         0  nonexistent          1.1   \n",
       "3   may         mon  ...         1    999         0  nonexistent          1.1   \n",
       "4   may         mon  ...         1    999         0  nonexistent          1.1   \n",
       "\n",
       "   cons.price.idx  cons.conf.idx  euribor3m  nr.employed   y  \n",
       "0          93.994          -36.4      4.857       5191.0  no  \n",
       "1          93.994          -36.4      4.857       5191.0  no  \n",
       "2          93.994          -36.4      4.857       5191.0  no  \n",
       "3          93.994          -36.4      4.857       5191.0  no  \n",
       "4          93.994          -36.4      4.857       5191.0  no  \n",
       "\n",
       "[5 rows x 21 columns]"
      ]
     },
     "execution_count": 3,
     "metadata": {},
     "output_type": "execute_result"
    }
   ],
   "source": [
    "df.head()"
   ]
  },
  {
   "cell_type": "markdown",
   "metadata": {},
   "source": [
    "### Problem 3: Understanding the Features\n",
    "\n",
    "\n",
    "Examine the data description below, and determine if any of the features are missing values or need to be coerced to a different data type.\n",
    "\n",
    "\n",
    "```\n",
    "Input variables:\n",
    "# bank client data:\n",
    "1 - age (numeric)\n",
    "2 - job : type of job (categorical: 'admin.','blue-collar','entrepreneur','housemaid','management','retired','self-employed','services','student','technician','unemployed','unknown')\n",
    "3 - marital : marital status (categorical: 'divorced','married','single','unknown'; note: 'divorced' means divorced or widowed)\n",
    "4 - education (categorical: 'basic.4y','basic.6y','basic.9y','high.school','illiterate','professional.course','university.degree','unknown')\n",
    "5 - default: has credit in default? (categorical: 'no','yes','unknown')\n",
    "6 - housing: has housing loan? (categorical: 'no','yes','unknown')\n",
    "7 - loan: has personal loan? (categorical: 'no','yes','unknown')\n",
    "# related with the last contact of the current campaign:\n",
    "8 - contact: contact communication type (categorical: 'cellular','telephone')\n",
    "9 - month: last contact month of year (categorical: 'jan', 'feb', 'mar', ..., 'nov', 'dec')\n",
    "10 - day_of_week: last contact day of the week (categorical: 'mon','tue','wed','thu','fri')\n",
    "11 - duration: last contact duration, in seconds (numeric). Important note: this attribute highly affects the output target (e.g., if duration=0 then y='no'). Yet, the duration is not known before a call is performed. Also, after the end of the call y is obviously known. Thus, this input should only be included for benchmark purposes and should be discarded if the intention is to have a realistic predictive model.\n",
    "# other attributes:\n",
    "12 - campaign: number of contacts performed during this campaign and for this client (numeric, includes last contact)\n",
    "13 - pdays: number of days that passed by after the client was last contacted from a previous campaign (numeric; 999 means client was not previously contacted)\n",
    "14 - previous: number of contacts performed before this campaign and for this client (numeric)\n",
    "15 - poutcome: outcome of the previous marketing campaign (categorical: 'failure','nonexistent','success')\n",
    "# social and economic context attributes\n",
    "16 - emp.var.rate: employment variation rate - quarterly indicator (numeric)\n",
    "17 - cons.price.idx: consumer price index - monthly indicator (numeric)\n",
    "18 - cons.conf.idx: consumer confidence index - monthly indicator (numeric)\n",
    "19 - euribor3m: euribor 3 month rate - daily indicator (numeric)\n",
    "20 - nr.employed: number of employees - quarterly indicator (numeric)\n",
    "\n",
    "Output variable (desired target):\n",
    "21 - y - has the client subscribed a term deposit? (binary: 'yes','no')\n",
    "```\n",
    "\n"
   ]
  },
  {
   "cell_type": "markdown",
   "metadata": {},
   "source": [
    "### Problem 4: Understanding the Task\n",
    "\n",
    "After examining the description and data, your goal now is to clearly state the *Business Objective* of the task.  State the objective below."
   ]
  },
  {
   "cell_type": "code",
   "execution_count": 4,
   "metadata": {},
   "outputs": [
    {
     "name": "stdout",
     "output_type": "stream",
     "text": [
      "<class 'pandas.core.frame.DataFrame'>\n",
      "RangeIndex: 41188 entries, 0 to 41187\n",
      "Data columns (total 21 columns):\n",
      " #   Column          Non-Null Count  Dtype  \n",
      "---  ------          --------------  -----  \n",
      " 0   age             41188 non-null  int64  \n",
      " 1   job             41188 non-null  object \n",
      " 2   marital         41188 non-null  object \n",
      " 3   education       41188 non-null  object \n",
      " 4   default         41188 non-null  object \n",
      " 5   housing         41188 non-null  object \n",
      " 6   loan            41188 non-null  object \n",
      " 7   contact         41188 non-null  object \n",
      " 8   month           41188 non-null  object \n",
      " 9   day_of_week     41188 non-null  object \n",
      " 10  duration        41188 non-null  int64  \n",
      " 11  campaign        41188 non-null  int64  \n",
      " 12  pdays           41188 non-null  int64  \n",
      " 13  previous        41188 non-null  int64  \n",
      " 14  poutcome        41188 non-null  object \n",
      " 15  emp.var.rate    41188 non-null  float64\n",
      " 16  cons.price.idx  41188 non-null  float64\n",
      " 17  cons.conf.idx   41188 non-null  float64\n",
      " 18  euribor3m       41188 non-null  float64\n",
      " 19  nr.employed     41188 non-null  float64\n",
      " 20  y               41188 non-null  object \n",
      "dtypes: float64(5), int64(5), object(11)\n",
      "memory usage: 6.6+ MB\n"
     ]
    }
   ],
   "source": [
    "df.info()"
   ]
  },
  {
   "cell_type": "code",
   "execution_count": 5,
   "metadata": {},
   "outputs": [
    {
     "data": {
      "text/plain": [
       "age               0\n",
       "euribor3m         0\n",
       "cons.conf.idx     0\n",
       "cons.price.idx    0\n",
       "emp.var.rate      0\n",
       "poutcome          0\n",
       "previous          0\n",
       "pdays             0\n",
       "campaign          0\n",
       "nr.employed       0\n",
       "duration          0\n",
       "month             0\n",
       "contact           0\n",
       "loan              0\n",
       "housing           0\n",
       "default           0\n",
       "education         0\n",
       "marital           0\n",
       "job               0\n",
       "day_of_week       0\n",
       "y                 0\n",
       "dtype: int64"
      ]
     },
     "execution_count": 5,
     "metadata": {},
     "output_type": "execute_result"
    }
   ],
   "source": [
    "df.isnull().sum().sort_values()"
   ]
  },
  {
   "cell_type": "markdown",
   "metadata": {},
   "source": [
    "##### To predict if a client will subscribe the deposit."
   ]
  },
  {
   "cell_type": "code",
   "execution_count": 6,
   "metadata": {},
   "outputs": [
    {
     "data": {
      "text/plain": [
       "<AxesSubplot:>"
      ]
     },
     "execution_count": 6,
     "metadata": {},
     "output_type": "execute_result"
    },
    {
     "data": {
      "image/png": "[encoded data removed]",
      "text/plain": [
       "<Figure size 432x288 with 1 Axes>"
      ]
     },
     "metadata": {
      "needs_background": "light"
     },
     "output_type": "display_data"
    }
   ],
   "source": [
    "df['y'].value_counts().plot(kind='bar')"
   ]
  },
  {
   "cell_type": "markdown",
   "metadata": {},
   "source": [
    "Based on above we can see the target distribution in given data is skewed / imbalanced"
   ]
  },
  {
   "cell_type": "code",
   "execution_count": 7,
   "metadata": {},
   "outputs": [
    {
     "data": {
      "text/html": [
       "<div>\n",
       "<style scoped>\n",
       "    .dataframe tbody tr th:only-of-type {\n",
       "        vertical-align: middle;\n",
       "    }\n",
       "\n",
       "    .dataframe tbody tr th {\n",
       "        vertical-align: top;\n",
       "    }\n",
       "\n",
       "    .dataframe thead th {\n",
       "        text-align: right;\n",
       "    }\n",
       "</style>\n",
       "<table border=\"1\" class=\"dataframe\">\n",
       "  <thead>\n",
       "    <tr style=\"text-align: right;\">\n",
       "      <th></th>\n",
       "      <th>age</th>\n",
       "      <th>duration</th>\n",
       "      <th>campaign</th>\n",
       "      <th>pdays</th>\n",
       "      <th>previous</th>\n",
       "      <th>emp.var.rate</th>\n",
       "      <th>cons.price.idx</th>\n",
       "      <th>cons.conf.idx</th>\n",
       "      <th>euribor3m</th>\n",
       "      <th>nr.employed</th>\n",
       "    </tr>\n",
       "  </thead>\n",
       "  <tbody>\n",
       "    <tr>\n",
       "      <th>age</th>\n",
       "      <td>1.000000</td>\n",
       "      <td>-0.000866</td>\n",
       "      <td>0.004594</td>\n",
       "      <td>-0.034369</td>\n",
       "      <td>0.024365</td>\n",
       "      <td>-0.000371</td>\n",
       "      <td>0.000857</td>\n",
       "      <td>0.129372</td>\n",
       "      <td>0.010767</td>\n",
       "      <td>-0.017725</td>\n",
       "    </tr>\n",
       "    <tr>\n",
       "      <th>duration</th>\n",
       "      <td>-0.000866</td>\n",
       "      <td>1.000000</td>\n",
       "      <td>-0.071699</td>\n",
       "      <td>-0.047577</td>\n",
       "      <td>0.020640</td>\n",
       "      <td>-0.027968</td>\n",
       "      <td>0.005312</td>\n",
       "      <td>-0.008173</td>\n",
       "      <td>-0.032897</td>\n",
       "      <td>-0.044703</td>\n",
       "    </tr>\n",
       "    <tr>\n",
       "      <th>campaign</th>\n",
       "      <td>0.004594</td>\n",
       "      <td>-0.071699</td>\n",
       "      <td>1.000000</td>\n",
       "      <td>0.052584</td>\n",
       "      <td>-0.079141</td>\n",
       "      <td>0.150754</td>\n",
       "      <td>0.127836</td>\n",
       "      <td>-0.013733</td>\n",
       "      <td>0.135133</td>\n",
       "      <td>0.144095</td>\n",
       "    </tr>\n",
       "    <tr>\n",
       "      <th>pdays</th>\n",
       "      <td>-0.034369</td>\n",
       "      <td>-0.047577</td>\n",
       "      <td>0.052584</td>\n",
       "      <td>1.000000</td>\n",
       "      <td>-0.587514</td>\n",
       "      <td>0.271004</td>\n",
       "      <td>0.078889</td>\n",
       "      <td>-0.091342</td>\n",
       "      <td>0.296899</td>\n",
       "      <td>0.372605</td>\n",
       "    </tr>\n",
       "    <tr>\n",
       "      <th>previous</th>\n",
       "      <td>0.024365</td>\n",
       "      <td>0.020640</td>\n",
       "      <td>-0.079141</td>\n",
       "      <td>-0.587514</td>\n",
       "      <td>1.000000</td>\n",
       "      <td>-0.420489</td>\n",
       "      <td>-0.203130</td>\n",
       "      <td>-0.050936</td>\n",
       "      <td>-0.454494</td>\n",
       "      <td>-0.501333</td>\n",
       "    </tr>\n",
       "    <tr>\n",
       "      <th>emp.var.rate</th>\n",
       "      <td>-0.000371</td>\n",
       "      <td>-0.027968</td>\n",
       "      <td>0.150754</td>\n",
       "      <td>0.271004</td>\n",
       "      <td>-0.420489</td>\n",
       "      <td>1.000000</td>\n",
       "      <td>0.775334</td>\n",
       "      <td>0.196041</td>\n",
       "      <td>0.972245</td>\n",
       "      <td>0.906970</td>\n",
       "    </tr>\n",
       "    <tr>\n",
       "      <th>cons.price.idx</th>\n",
       "      <td>0.000857</td>\n",
       "      <td>0.005312</td>\n",
       "      <td>0.127836</td>\n",
       "      <td>0.078889</td>\n",
       "      <td>-0.203130</td>\n",
       "      <td>0.775334</td>\n",
       "      <td>1.000000</td>\n",
       "      <td>0.058986</td>\n",
       "      <td>0.688230</td>\n",
       "      <td>0.522034</td>\n",
       "    </tr>\n",
       "    <tr>\n",
       "      <th>cons.conf.idx</th>\n",
       "      <td>0.129372</td>\n",
       "      <td>-0.008173</td>\n",
       "      <td>-0.013733</td>\n",
       "      <td>-0.091342</td>\n",
       "      <td>-0.050936</td>\n",
       "      <td>0.196041</td>\n",
       "      <td>0.058986</td>\n",
       "      <td>1.000000</td>\n",
       "      <td>0.277686</td>\n",
       "      <td>0.100513</td>\n",
       "    </tr>\n",
       "    <tr>\n",
       "      <th>euribor3m</th>\n",
       "      <td>0.010767</td>\n",
       "      <td>-0.032897</td>\n",
       "      <td>0.135133</td>\n",
       "      <td>0.296899</td>\n",
       "      <td>-0.454494</td>\n",
       "      <td>0.972245</td>\n",
       "      <td>0.688230</td>\n",
       "      <td>0.277686</td>\n",
       "      <td>1.000000</td>\n",
       "      <td>0.945154</td>\n",
       "    </tr>\n",
       "    <tr>\n",
       "      <th>nr.employed</th>\n",
       "      <td>-0.017725</td>\n",
       "      <td>-0.044703</td>\n",
       "      <td>0.144095</td>\n",
       "      <td>0.372605</td>\n",
       "      <td>-0.501333</td>\n",
       "      <td>0.906970</td>\n",
       "      <td>0.522034</td>\n",
       "      <td>0.100513</td>\n",
       "      <td>0.945154</td>\n",
       "      <td>1.000000</td>\n",
       "    </tr>\n",
       "  </tbody>\n",
       "</table>\n",
       "</div>"
      ],
      "text/plain": [
       "                     age  duration  campaign     pdays  previous  \\\n",
       "age             1.000000 -0.000866  0.004594 -0.034369  0.024365   \n",
       "duration       -0.000866  1.000000 -0.071699 -0.047577  0.020640   \n",
       "campaign        0.004594 -0.071699  1.000000  0.052584 -0.079141   \n",
       "pdays          -0.034369 -0.047577  0.052584  1.000000 -0.587514   \n",
       "previous        0.024365  0.020640 -0.079141 -0.587514  1.000000   \n",
       "emp.var.rate   -0.000371 -0.027968  0.150754  0.271004 -0.420489   \n",
       "cons.price.idx  0.000857  0.005312  0.127836  0.078889 -0.203130   \n",
       "cons.conf.idx   0.129372 -0.008173 -0.013733 -0.091342 -0.050936   \n",
       "euribor3m       0.010767 -0.032897  0.135133  0.296899 -0.454494   \n",
       "nr.employed    -0.017725 -0.044703  0.144095  0.372605 -0.501333   \n",
       "\n",
       "                emp.var.rate  cons.price.idx  cons.conf.idx  euribor3m  \\\n",
       "age                -0.000371        0.000857       0.129372   0.010767   \n",
       "duration           -0.027968        0.005312      -0.008173  -0.032897   \n",
       "campaign            0.150754        0.127836      -0.013733   0.135133   \n",
       "pdays               0.271004        0.078889      -0.091342   0.296899   \n",
       "previous           -0.420489       -0.203130      -0.050936  -0.454494   \n",
       "emp.var.rate        1.000000        0.775334       0.196041   0.972245   \n",
       "cons.price.idx      0.775334        1.000000       0.058986   0.688230   \n",
       "cons.conf.idx       0.196041        0.058986       1.000000   0.277686   \n",
       "euribor3m           0.972245        0.688230       0.277686   1.000000   \n",
       "nr.employed         0.906970        0.522034       0.100513   0.945154   \n",
       "\n",
       "                nr.employed  \n",
       "age               -0.017725  \n",
       "duration          -0.044703  \n",
       "campaign           0.144095  \n",
       "pdays              0.372605  \n",
       "previous          -0.501333  \n",
       "emp.var.rate       0.906970  \n",
       "cons.price.idx     0.522034  \n",
       "cons.conf.idx      0.100513  \n",
       "euribor3m          0.945154  \n",
       "nr.employed        1.000000  "
      ]
     },
     "execution_count": 7,
     "metadata": {},
     "output_type": "execute_result"
    }
   ],
   "source": [
    "df.corr()"
   ]
  },
  {
   "cell_type": "code",
   "execution_count": 8,
   "metadata": {},
   "outputs": [],
   "source": [
    "df_cleaned = df.copy()"
   ]
  },
  {
   "cell_type": "markdown",
   "metadata": {},
   "source": [
    "### Problem 5: Engineering Features\n",
    "\n",
    "Now that you understand your business objective, we will build a basic model to get started.  Before we can do this, we must work to encode the data.  Using just the bank information features (columns 1 - 7), prepare the features and target column for modeling with appropriate encoding and transformations."
   ]
  },
  {
   "cell_type": "markdown",
   "metadata": {},
   "source": [
    "#### Tranformations"
   ]
  },
  {
   "cell_type": "markdown",
   "metadata": {},
   "source": [
    "##### Target (y)"
   ]
  },
  {
   "cell_type": "code",
   "execution_count": 9,
   "metadata": {},
   "outputs": [],
   "source": [
    "df_cleaned[\"y\"] = df_cleaned[\"y\"].replace(\"no\", \"0\")\n",
    "df_cleaned[\"y\"] = df_cleaned[\"y\"].replace(\"yes\", \"1\")\n",
    "df_cleaned[\"y\"] = df_cleaned[\"y\"].astype(int)"
   ]
  },
  {
   "cell_type": "markdown",
   "metadata": {
    "tags": []
   },
   "source": [
    "##### 'campaign','age','pdays','previous','emp.var.rate','cons.price.idx','cons.conf.idx','euribor3m'"
   ]
  },
  {
   "cell_type": "code",
   "execution_count": 10,
   "metadata": {},
   "outputs": [],
   "source": [
    "df_cleaned[['age','campaign','pdays','previous','emp.var.rate','cons.price.idx','cons.conf.idx','euribor3m']] = MinMaxScaler().fit_transform(df_cleaned[['campaign','age','pdays','previous','emp.var.rate','cons.price.idx','cons.conf.idx','euribor3m']])"
   ]
  },
  {
   "cell_type": "markdown",
   "metadata": {
    "tags": []
   },
   "source": [
    "##### nr.employed"
   ]
  },
  {
   "cell_type": "code",
   "execution_count": 11,
   "metadata": {},
   "outputs": [],
   "source": [
    "df_cleaned['nr.employed'] = StandardScaler().fit_transform(np.array(df_cleaned['nr.employed']).reshape(-1,1))"
   ]
  },
  {
   "cell_type": "markdown",
   "metadata": {
    "tags": []
   },
   "source": [
    "##### month"
   ]
  },
  {
   "cell_type": "code",
   "execution_count": 12,
   "metadata": {},
   "outputs": [],
   "source": [
    "month_map = {\n",
    "    'mar':'3',\n",
    "    'apr':'4',\n",
    "    'may':'5',\n",
    "    'jun':'6',\n",
    "    'jul':'7',\n",
    "    'aug':'8',\n",
    "    'sep':'9',\n",
    "    'oct':'10',\n",
    "    'nov':'11',\n",
    "    'dec':'12'\n",
    "}\n",
    "df_cleaned['month']=df.month.map(month_map)\n",
    "df_cleaned[\"month\"] = df_cleaned[\"month\"].astype(int)"
   ]
  },
  {
   "cell_type": "markdown",
   "metadata": {
    "tags": []
   },
   "source": [
    "##### day_of_week"
   ]
  },
  {
   "cell_type": "code",
   "execution_count": 13,
   "metadata": {
    "tags": []
   },
   "outputs": [],
   "source": [
    "day_of_week_map = {\n",
    "    'mon':'1',\n",
    "    'tue':'2',\n",
    "    'wed':'3',\n",
    "    'thu':'4',\n",
    "    'fri':'5'\n",
    "}\n",
    "df_cleaned['day_of_week']=df.day_of_week.map(day_of_week_map)\n",
    "df_cleaned[\"day_of_week\"] = df_cleaned[\"day_of_week\"].astype(int)"
   ]
  },
  {
   "cell_type": "code",
   "execution_count": 14,
   "metadata": {},
   "outputs": [],
   "source": [
    "df_cleaned.to_csv('data/bank_1.csv',index=False)"
   ]
  },
  {
   "cell_type": "code",
   "execution_count": 15,
   "metadata": {},
   "outputs": [],
   "source": [
    "df_cleaned = pd.read_csv('data/bank_1.csv')"
   ]
  },
  {
   "cell_type": "markdown",
   "metadata": {
    "tags": []
   },
   "source": [
    "##### job, education"
   ]
  },
  {
   "cell_type": "code",
   "execution_count": 16,
   "metadata": {},
   "outputs": [],
   "source": [
    "df_cleaned[\"job\"] = df_cleaned[\"job\"].replace(\"admin.\", \"admin\")\n",
    "df_cleaned[\"job\"] = df_cleaned[\"job\"].replace(\"-\", \"_\")"
   ]
  },
  {
   "cell_type": "code",
   "execution_count": 17,
   "metadata": {},
   "outputs": [],
   "source": [
    "df_cleaned[\"education\"] = df_cleaned[\"education\"].replace(\"university.degree\", \"university_degree\")\n",
    "df_cleaned[\"education\"] = df_cleaned[\"education\"].replace(\"high.school\", \"high_school\")\n",
    "df_cleaned[\"education\"] = df_cleaned[\"education\"].replace(\"basic.9y\", \"basic_9y\")\n",
    "df_cleaned[\"education\"] = df_cleaned[\"education\"].replace(\"professional.course\", \"professional_course\")\n",
    "df_cleaned[\"education\"] = df_cleaned[\"education\"].replace(\"basic.4y\", \"basic_4y\")\n",
    "df_cleaned[\"education\"] = df_cleaned[\"education\"].replace(\"basic.6y\", \"basic_6y\")"
   ]
  },
  {
   "cell_type": "markdown",
   "metadata": {
    "tags": []
   },
   "source": [
    "##### 'job', 'marital', 'education','default', 'housing', 'loan','contact','poutcome'"
   ]
  },
  {
   "cell_type": "code",
   "execution_count": 18,
   "metadata": {},
   "outputs": [],
   "source": [
    "transformer = make_column_transformer((OneHotEncoder(drop = 'if_binary'), ['job', 'marital', 'education','default', 'housing', 'loan','contact','poutcome']),\n",
    "    remainder='passthrough')\n",
    "\n",
    "transformed = transformer.fit_transform(df_cleaned)\n",
    "transformed_df = pd.DataFrame(\n",
    "    transformed, \n",
    "    columns=transformer.get_feature_names_out()\n",
    ")"
   ]
  },
  {
   "cell_type": "code",
   "execution_count": 19,
   "metadata": {},
   "outputs": [],
   "source": [
    "transformed_df.columns = transformed_df.columns.str.replace('onehotencoder__' , '')\n",
    "transformed_df.columns = transformed_df.columns.str.replace('remainder__' , '')\n"
   ]
  },
  {
   "cell_type": "code",
   "execution_count": 20,
   "metadata": {},
   "outputs": [
    {
     "name": "stdout",
     "output_type": "stream",
     "text": [
      "<class 'pandas.core.frame.DataFrame'>\n",
      "RangeIndex: 41188 entries, 0 to 41187\n",
      "Data columns (total 50 columns):\n",
      " #   Column                         Non-Null Count  Dtype  \n",
      "---  ------                         --------------  -----  \n",
      " 0   job_admin                      41188 non-null  float64\n",
      " 1   job_blue-collar                41188 non-null  float64\n",
      " 2   job_entrepreneur               41188 non-null  float64\n",
      " 3   job_housemaid                  41188 non-null  float64\n",
      " 4   job_management                 41188 non-null  float64\n",
      " 5   job_retired                    41188 non-null  float64\n",
      " 6   job_self-employed              41188 non-null  float64\n",
      " 7   job_services                   41188 non-null  float64\n",
      " 8   job_student                    41188 non-null  float64\n",
      " 9   job_technician                 41188 non-null  float64\n",
      " 10  job_unemployed                 41188 non-null  float64\n",
      " 11  job_unknown                    41188 non-null  float64\n",
      " 12  marital_divorced               41188 non-null  float64\n",
      " 13  marital_married                41188 non-null  float64\n",
      " 14  marital_single                 41188 non-null  float64\n",
      " 15  marital_unknown                41188 non-null  float64\n",
      " 16  education_basic_4y             41188 non-null  float64\n",
      " 17  education_basic_6y             41188 non-null  float64\n",
      " 18  education_basic_9y             41188 non-null  float64\n",
      " 19  education_high_school          41188 non-null  float64\n",
      " 20  education_illiterate           41188 non-null  float64\n",
      " 21  education_professional_course  41188 non-null  float64\n",
      " 22  education_university_degree    41188 non-null  float64\n",
      " 23  education_unknown              41188 non-null  float64\n",
      " 24  default_no                     41188 non-null  float64\n",
      " 25  default_unknown                41188 non-null  float64\n",
      " 26  default_yes                    41188 non-null  float64\n",
      " 27  housing_no                     41188 non-null  float64\n",
      " 28  housing_unknown                41188 non-null  float64\n",
      " 29  housing_yes                    41188 non-null  float64\n",
      " 30  loan_no                        41188 non-null  float64\n",
      " 31  loan_unknown                   41188 non-null  float64\n",
      " 32  loan_yes                       41188 non-null  float64\n",
      " 33  contact_telephone              41188 non-null  float64\n",
      " 34  poutcome_failure               41188 non-null  float64\n",
      " 35  poutcome_nonexistent           41188 non-null  float64\n",
      " 36  poutcome_success               41188 non-null  float64\n",
      " 37  age                            41188 non-null  float64\n",
      " 38  month                          41188 non-null  float64\n",
      " 39  day_of_week                    41188 non-null  float64\n",
      " 40  duration                       41188 non-null  float64\n",
      " 41  campaign                       41188 non-null  float64\n",
      " 42  pdays                          41188 non-null  float64\n",
      " 43  previous                       41188 non-null  float64\n",
      " 44  emp.var.rate                   41188 non-null  float64\n",
      " 45  cons.price.idx                 41188 non-null  float64\n",
      " 46  cons.conf.idx                  41188 non-null  float64\n",
      " 47  euribor3m                      41188 non-null  float64\n",
      " 48  nr.employed                    41188 non-null  float64\n",
      " 49  y                              41188 non-null  float64\n",
      "dtypes: float64(50)\n",
      "memory usage: 15.7 MB\n"
     ]
    }
   ],
   "source": [
    "transformed_df.info()"
   ]
  },
  {
   "cell_type": "code",
   "execution_count": 21,
   "metadata": {},
   "outputs": [],
   "source": [
    "df_cleaned = transformed_df.copy()"
   ]
  },
  {
   "cell_type": "code",
   "execution_count": 22,
   "metadata": {},
   "outputs": [],
   "source": [
    "df_cleaned.to_csv('data/bank_2.csv',index=False)"
   ]
  },
  {
   "cell_type": "code",
   "execution_count": 23,
   "metadata": {},
   "outputs": [],
   "source": [
    "df_cleaned = pd.read_csv('data/bank_2.csv')"
   ]
  },
  {
   "cell_type": "markdown",
   "metadata": {
    "tags": []
   },
   "source": [
    "##### duration"
   ]
  },
  {
   "cell_type": "markdown",
   "metadata": {},
   "source": [
    "Dropping duration"
   ]
  },
  {
   "cell_type": "code",
   "execution_count": 24,
   "metadata": {
    "tags": []
   },
   "outputs": [],
   "source": [
    "del df_cleaned['duration']"
   ]
  },
  {
   "cell_type": "code",
   "execution_count": 25,
   "metadata": {},
   "outputs": [],
   "source": [
    "df_cleaned.to_csv('data/bank_3.csv',index=False)"
   ]
  },
  {
   "cell_type": "code",
   "execution_count": 26,
   "metadata": {},
   "outputs": [],
   "source": [
    "df_cleaned = pd.read_csv('data/bank_3.csv')"
   ]
  },
  {
   "cell_type": "markdown",
   "metadata": {
    "tags": []
   },
   "source": [
    "#### Feature Cleanup"
   ]
  },
  {
   "cell_type": "code",
   "execution_count": 27,
   "metadata": {},
   "outputs": [
    {
     "data": {
      "text/html": [
       "<div>\n",
       "<style scoped>\n",
       "    .dataframe tbody tr th:only-of-type {\n",
       "        vertical-align: middle;\n",
       "    }\n",
       "\n",
       "    .dataframe tbody tr th {\n",
       "        vertical-align: top;\n",
       "    }\n",
       "\n",
       "    .dataframe thead th {\n",
       "        text-align: right;\n",
       "    }\n",
       "</style>\n",
       "<table border=\"1\" class=\"dataframe\">\n",
       "  <thead>\n",
       "    <tr style=\"text-align: right;\">\n",
       "      <th></th>\n",
       "      <th>job_admin</th>\n",
       "      <th>job_blue-collar</th>\n",
       "      <th>job_entrepreneur</th>\n",
       "      <th>job_housemaid</th>\n",
       "      <th>job_management</th>\n",
       "      <th>job_retired</th>\n",
       "      <th>job_self-employed</th>\n",
       "      <th>job_services</th>\n",
       "      <th>job_student</th>\n",
       "      <th>job_technician</th>\n",
       "      <th>...</th>\n",
       "      <th>day_of_week</th>\n",
       "      <th>campaign</th>\n",
       "      <th>pdays</th>\n",
       "      <th>previous</th>\n",
       "      <th>emp.var.rate</th>\n",
       "      <th>cons.price.idx</th>\n",
       "      <th>cons.conf.idx</th>\n",
       "      <th>euribor3m</th>\n",
       "      <th>nr.employed</th>\n",
       "      <th>y</th>\n",
       "    </tr>\n",
       "  </thead>\n",
       "  <tbody>\n",
       "    <tr>\n",
       "      <th>job_admin</th>\n",
       "      <td>1.000000</td>\n",
       "      <td>-0.313313</td>\n",
       "      <td>-0.111417</td>\n",
       "      <td>-0.094595</td>\n",
       "      <td>-0.160892</td>\n",
       "      <td>-0.121502</td>\n",
       "      <td>-0.110021</td>\n",
       "      <td>-0.190063</td>\n",
       "      <td>-0.085748</td>\n",
       "      <td>-0.257516</td>\n",
       "      <td>...</td>\n",
       "      <td>0.005294</td>\n",
       "      <td>-0.102584</td>\n",
       "      <td>-0.025398</td>\n",
       "      <td>0.018888</td>\n",
       "      <td>-0.024572</td>\n",
       "      <td>-0.041840</td>\n",
       "      <td>0.032341</td>\n",
       "      <td>-0.023831</td>\n",
       "      <td>-0.023446</td>\n",
       "      <td>0.031426</td>\n",
       "    </tr>\n",
       "    <tr>\n",
       "      <th>job_blue-collar</th>\n",
       "      <td>-0.313313</td>\n",
       "      <td>1.000000</td>\n",
       "      <td>-0.103050</td>\n",
       "      <td>-0.087492</td>\n",
       "      <td>-0.148810</td>\n",
       "      <td>-0.112378</td>\n",
       "      <td>-0.101759</td>\n",
       "      <td>-0.175791</td>\n",
       "      <td>-0.079308</td>\n",
       "      <td>-0.238178</td>\n",
       "      <td>...</td>\n",
       "      <td>0.007334</td>\n",
       "      <td>-0.024191</td>\n",
       "      <td>0.065335</td>\n",
       "      <td>-0.054845</td>\n",
       "      <td>0.057264</td>\n",
       "      <td>0.075322</td>\n",
       "      <td>-0.101567</td>\n",
       "      <td>0.046775</td>\n",
       "      <td>0.063921</td>\n",
       "      <td>-0.074423</td>\n",
       "    </tr>\n",
       "    <tr>\n",
       "      <th>job_entrepreneur</th>\n",
       "      <td>-0.111417</td>\n",
       "      <td>-0.103050</td>\n",
       "      <td>1.000000</td>\n",
       "      <td>-0.031113</td>\n",
       "      <td>-0.052918</td>\n",
       "      <td>-0.039962</td>\n",
       "      <td>-0.036186</td>\n",
       "      <td>-0.062513</td>\n",
       "      <td>-0.028203</td>\n",
       "      <td>-0.084698</td>\n",
       "      <td>...</td>\n",
       "      <td>-0.001329</td>\n",
       "      <td>0.031213</td>\n",
       "      <td>0.019246</td>\n",
       "      <td>-0.013239</td>\n",
       "      <td>0.009363</td>\n",
       "      <td>0.009825</td>\n",
       "      <td>-0.032306</td>\n",
       "      <td>0.018744</td>\n",
       "      <td>0.024581</td>\n",
       "      <td>-0.016644</td>\n",
       "    </tr>\n",
       "    <tr>\n",
       "      <th>job_housemaid</th>\n",
       "      <td>-0.094595</td>\n",
       "      <td>-0.087492</td>\n",
       "      <td>-0.031113</td>\n",
       "      <td>1.000000</td>\n",
       "      <td>-0.044929</td>\n",
       "      <td>-0.033929</td>\n",
       "      <td>-0.030723</td>\n",
       "      <td>-0.053075</td>\n",
       "      <td>-0.023945</td>\n",
       "      <td>-0.071911</td>\n",
       "      <td>...</td>\n",
       "      <td>-0.011988</td>\n",
       "      <td>0.085403</td>\n",
       "      <td>-0.001649</td>\n",
       "      <td>-0.011569</td>\n",
       "      <td>0.036367</td>\n",
       "      <td>0.028335</td>\n",
       "      <td>0.035374</td>\n",
       "      <td>0.036392</td>\n",
       "      <td>0.028105</td>\n",
       "      <td>-0.006505</td>\n",
       "    </tr>\n",
       "    <tr>\n",
       "      <th>job_management</th>\n",
       "      <td>-0.160892</td>\n",
       "      <td>-0.148810</td>\n",
       "      <td>-0.052918</td>\n",
       "      <td>-0.044929</td>\n",
       "      <td>1.000000</td>\n",
       "      <td>-0.057708</td>\n",
       "      <td>-0.052255</td>\n",
       "      <td>-0.090272</td>\n",
       "      <td>-0.040726</td>\n",
       "      <td>-0.122309</td>\n",
       "      <td>...</td>\n",
       "      <td>-0.010201</td>\n",
       "      <td>0.062040</td>\n",
       "      <td>0.000254</td>\n",
       "      <td>0.006735</td>\n",
       "      <td>-0.016642</td>\n",
       "      <td>-0.025268</td>\n",
       "      <td>0.000784</td>\n",
       "      <td>-0.001590</td>\n",
       "      <td>-0.001475</td>\n",
       "      <td>-0.000419</td>\n",
       "    </tr>\n",
       "    <tr>\n",
       "      <th>job_retired</th>\n",
       "      <td>-0.121502</td>\n",
       "      <td>-0.112378</td>\n",
       "      <td>-0.039962</td>\n",
       "      <td>-0.033929</td>\n",
       "      <td>-0.057708</td>\n",
       "      <td>1.000000</td>\n",
       "      <td>-0.039462</td>\n",
       "      <td>-0.068171</td>\n",
       "      <td>-0.030756</td>\n",
       "      <td>-0.092365</td>\n",
       "      <td>...</td>\n",
       "      <td>-0.004719</td>\n",
       "      <td>0.440772</td>\n",
       "      <td>-0.072084</td>\n",
       "      <td>0.065113</td>\n",
       "      <td>-0.103678</td>\n",
       "      <td>-0.052251</td>\n",
       "      <td>0.087033</td>\n",
       "      <td>-0.102454</td>\n",
       "      <td>-0.129367</td>\n",
       "      <td>0.092221</td>\n",
       "    </tr>\n",
       "    <tr>\n",
       "      <th>job_self-employed</th>\n",
       "      <td>-0.110021</td>\n",
       "      <td>-0.101759</td>\n",
       "      <td>-0.036186</td>\n",
       "      <td>-0.030723</td>\n",
       "      <td>-0.052255</td>\n",
       "      <td>-0.039462</td>\n",
       "      <td>1.000000</td>\n",
       "      <td>-0.061730</td>\n",
       "      <td>-0.027849</td>\n",
       "      <td>-0.083637</td>\n",
       "      <td>...</td>\n",
       "      <td>0.004525</td>\n",
       "      <td>-0.001356</td>\n",
       "      <td>0.014307</td>\n",
       "      <td>-0.011231</td>\n",
       "      <td>0.001477</td>\n",
       "      <td>-0.005122</td>\n",
       "      <td>0.000592</td>\n",
       "      <td>0.007421</td>\n",
       "      <td>0.009519</td>\n",
       "      <td>-0.004663</td>\n",
       "    </tr>\n",
       "    <tr>\n",
       "      <th>job_services</th>\n",
       "      <td>-0.190063</td>\n",
       "      <td>-0.175791</td>\n",
       "      <td>-0.062513</td>\n",
       "      <td>-0.053075</td>\n",
       "      <td>-0.090272</td>\n",
       "      <td>-0.068171</td>\n",
       "      <td>-0.061730</td>\n",
       "      <td>1.000000</td>\n",
       "      <td>-0.048110</td>\n",
       "      <td>-0.144485</td>\n",
       "      <td>...</td>\n",
       "      <td>-0.003029</td>\n",
       "      <td>-0.065731</td>\n",
       "      <td>0.030573</td>\n",
       "      <td>-0.011885</td>\n",
       "      <td>0.019431</td>\n",
       "      <td>0.033282</td>\n",
       "      <td>-0.055561</td>\n",
       "      <td>0.014666</td>\n",
       "      <td>0.020629</td>\n",
       "      <td>-0.032301</td>\n",
       "    </tr>\n",
       "    <tr>\n",
       "      <th>job_student</th>\n",
       "      <td>-0.085748</td>\n",
       "      <td>-0.079308</td>\n",
       "      <td>-0.028203</td>\n",
       "      <td>-0.023945</td>\n",
       "      <td>-0.040726</td>\n",
       "      <td>-0.030756</td>\n",
       "      <td>-0.027849</td>\n",
       "      <td>-0.048110</td>\n",
       "      <td>1.000000</td>\n",
       "      <td>-0.065185</td>\n",
       "      <td>...</td>\n",
       "      <td>0.001535</td>\n",
       "      <td>-0.199749</td>\n",
       "      <td>-0.096367</td>\n",
       "      <td>0.104671</td>\n",
       "      <td>-0.139725</td>\n",
       "      <td>-0.062117</td>\n",
       "      <td>0.010029</td>\n",
       "      <td>-0.147551</td>\n",
       "      <td>-0.165365</td>\n",
       "      <td>0.093955</td>\n",
       "    </tr>\n",
       "    <tr>\n",
       "      <th>job_technician</th>\n",
       "      <td>-0.257516</td>\n",
       "      <td>-0.238178</td>\n",
       "      <td>-0.084698</td>\n",
       "      <td>-0.071911</td>\n",
       "      <td>-0.122309</td>\n",
       "      <td>-0.092365</td>\n",
       "      <td>-0.083637</td>\n",
       "      <td>-0.144485</td>\n",
       "      <td>-0.065185</td>\n",
       "      <td>1.000000</td>\n",
       "      <td>...</td>\n",
       "      <td>0.001473</td>\n",
       "      <td>-0.064383</td>\n",
       "      <td>0.004575</td>\n",
       "      <td>-0.017142</td>\n",
       "      <td>0.054268</td>\n",
       "      <td>-0.010849</td>\n",
       "      <td>0.054973</td>\n",
       "      <td>0.050793</td>\n",
       "      <td>0.052741</td>\n",
       "      <td>-0.006149</td>\n",
       "    </tr>\n",
       "    <tr>\n",
       "      <th>job_unemployed</th>\n",
       "      <td>-0.092467</td>\n",
       "      <td>-0.085523</td>\n",
       "      <td>-0.030413</td>\n",
       "      <td>-0.025821</td>\n",
       "      <td>-0.043918</td>\n",
       "      <td>-0.033166</td>\n",
       "      <td>-0.030032</td>\n",
       "      <td>-0.051881</td>\n",
       "      <td>-0.023406</td>\n",
       "      <td>-0.070293</td>\n",
       "      <td>...</td>\n",
       "      <td>0.006405</td>\n",
       "      <td>-0.004426</td>\n",
       "      <td>-0.023085</td>\n",
       "      <td>0.008426</td>\n",
       "      <td>-0.019581</td>\n",
       "      <td>-0.003262</td>\n",
       "      <td>0.016992</td>\n",
       "      <td>-0.014171</td>\n",
       "      <td>-0.021724</td>\n",
       "      <td>0.014752</td>\n",
       "    </tr>\n",
       "    <tr>\n",
       "      <th>job_unknown</th>\n",
       "      <td>-0.052307</td>\n",
       "      <td>-0.048379</td>\n",
       "      <td>-0.017204</td>\n",
       "      <td>-0.014607</td>\n",
       "      <td>-0.024843</td>\n",
       "      <td>-0.018761</td>\n",
       "      <td>-0.016988</td>\n",
       "      <td>-0.029348</td>\n",
       "      <td>-0.013240</td>\n",
       "      <td>-0.039763</td>\n",
       "      <td>...</td>\n",
       "      <td>-0.015100</td>\n",
       "      <td>0.047773</td>\n",
       "      <td>-0.011419</td>\n",
       "      <td>-0.003345</td>\n",
       "      <td>0.015789</td>\n",
       "      <td>0.022246</td>\n",
       "      <td>0.033103</td>\n",
       "      <td>0.016982</td>\n",
       "      <td>0.007334</td>\n",
       "      <td>-0.000151</td>\n",
       "    </tr>\n",
       "    <tr>\n",
       "      <th>marital_divorced</th>\n",
       "      <td>0.020013</td>\n",
       "      <td>-0.056857</td>\n",
       "      <td>0.006657</td>\n",
       "      <td>0.020571</td>\n",
       "      <td>0.001075</td>\n",
       "      <td>0.059814</td>\n",
       "      <td>-0.011017</td>\n",
       "      <td>0.022850</td>\n",
       "      <td>-0.047510</td>\n",
       "      <td>0.003945</td>\n",
       "      <td>...</td>\n",
       "      <td>-0.012428</td>\n",
       "      <td>0.166125</td>\n",
       "      <td>0.011711</td>\n",
       "      <td>-0.003066</td>\n",
       "      <td>0.018558</td>\n",
       "      <td>0.018956</td>\n",
       "      <td>-0.015688</td>\n",
       "      <td>0.019309</td>\n",
       "      <td>0.018886</td>\n",
       "      <td>-0.010608</td>\n",
       "    </tr>\n",
       "    <tr>\n",
       "      <th>marital_married</th>\n",
       "      <td>-0.120494</td>\n",
       "      <td>0.129272</td>\n",
       "      <td>0.051050</td>\n",
       "      <td>0.042492</td>\n",
       "      <td>0.061761</td>\n",
       "      <td>0.057858</td>\n",
       "      <td>0.011968</td>\n",
       "      <td>-0.018202</td>\n",
       "      <td>-0.168294</td>\n",
       "      <td>-0.055176</td>\n",
       "      <td>...</td>\n",
       "      <td>-0.001971</td>\n",
       "      <td>0.271266</td>\n",
       "      <td>0.031614</td>\n",
       "      <td>-0.043420</td>\n",
       "      <td>0.080189</td>\n",
       "      <td>0.046424</td>\n",
       "      <td>0.062052</td>\n",
       "      <td>0.088908</td>\n",
       "      <td>0.082479</td>\n",
       "      <td>-0.043398</td>\n",
       "    </tr>\n",
       "    <tr>\n",
       "      <th>marital_single</th>\n",
       "      <td>0.117787</td>\n",
       "      <td>-0.100192</td>\n",
       "      <td>-0.060245</td>\n",
       "      <td>-0.060971</td>\n",
       "      <td>-0.067364</td>\n",
       "      <td>-0.105345</td>\n",
       "      <td>-0.005950</td>\n",
       "      <td>0.004078</td>\n",
       "      <td>0.216639</td>\n",
       "      <td>0.057404</td>\n",
       "      <td>...</td>\n",
       "      <td>0.010839</td>\n",
       "      <td>-0.411703</td>\n",
       "      <td>-0.042015</td>\n",
       "      <td>0.048485</td>\n",
       "      <td>-0.099403</td>\n",
       "      <td>-0.063013</td>\n",
       "      <td>-0.056186</td>\n",
       "      <td>-0.109479</td>\n",
       "      <td>-0.102382</td>\n",
       "      <td>0.054133</td>\n",
       "    </tr>\n",
       "    <tr>\n",
       "      <th>marital_unknown</th>\n",
       "      <td>-0.007918</td>\n",
       "      <td>-0.005251</td>\n",
       "      <td>0.000514</td>\n",
       "      <td>0.003278</td>\n",
       "      <td>-0.005753</td>\n",
       "      <td>0.004574</td>\n",
       "      <td>0.006768</td>\n",
       "      <td>-0.003194</td>\n",
       "      <td>-0.002675</td>\n",
       "      <td>-0.001635</td>\n",
       "      <td>...</td>\n",
       "      <td>0.000247</td>\n",
       "      <td>0.001062</td>\n",
       "      <td>-0.005989</td>\n",
       "      <td>0.009095</td>\n",
       "      <td>-0.008513</td>\n",
       "      <td>-0.007958</td>\n",
       "      <td>-0.003025</td>\n",
       "      <td>-0.007840</td>\n",
       "      <td>-0.005887</td>\n",
       "      <td>0.005211</td>\n",
       "    </tr>\n",
       "    <tr>\n",
       "      <th>education_basic_4y</th>\n",
       "      <td>-0.181255</td>\n",
       "      <td>0.265906</td>\n",
       "      <td>-0.004627</td>\n",
       "      <td>0.186187</td>\n",
       "      <td>-0.061533</td>\n",
       "      <td>0.169931</td>\n",
       "      <td>-0.022509</td>\n",
       "      <td>-0.073709</td>\n",
       "      <td>-0.034984</td>\n",
       "      <td>-0.136010</td>\n",
       "      <td>...</td>\n",
       "      <td>-0.008989</td>\n",
       "      <td>0.244079</td>\n",
       "      <td>0.005804</td>\n",
       "      <td>-0.017601</td>\n",
       "      <td>0.028660</td>\n",
       "      <td>0.047959</td>\n",
       "      <td>0.019068</td>\n",
       "      <td>0.025269</td>\n",
       "      <td>0.014361</td>\n",
       "      <td>-0.010798</td>\n",
       "    </tr>\n",
       "    <tr>\n",
       "      <th>education_basic_6y</th>\n",
       "      <td>-0.104499</td>\n",
       "      <td>0.231184</td>\n",
       "      <td>-0.005748</td>\n",
       "      <td>0.012049</td>\n",
       "      <td>-0.032049</td>\n",
       "      <td>-0.010967</td>\n",
       "      <td>-0.031380</td>\n",
       "      <td>0.001843</td>\n",
       "      <td>-0.026215</td>\n",
       "      <td>-0.082501</td>\n",
       "      <td>...</td>\n",
       "      <td>0.005162</td>\n",
       "      <td>0.009897</td>\n",
       "      <td>0.023238</td>\n",
       "      <td>-0.021493</td>\n",
       "      <td>0.023065</td>\n",
       "      <td>0.031201</td>\n",
       "      <td>-0.032796</td>\n",
       "      <td>0.021225</td>\n",
       "      <td>0.025810</td>\n",
       "      <td>-0.023517</td>\n",
       "    </tr>\n",
       "    <tr>\n",
       "      <th>education_basic_9y</th>\n",
       "      <td>-0.162641</td>\n",
       "      <td>0.372303</td>\n",
       "      <td>-0.001371</td>\n",
       "      <td>-0.026678</td>\n",
       "      <td>-0.070301</td>\n",
       "      <td>-0.036849</td>\n",
       "      <td>0.004303</td>\n",
       "      <td>-0.045225</td>\n",
       "      <td>-0.013998</td>\n",
       "      <td>-0.112300</td>\n",
       "      <td>...</td>\n",
       "      <td>0.006534</td>\n",
       "      <td>-0.038320</td>\n",
       "      <td>0.036963</td>\n",
       "      <td>-0.026418</td>\n",
       "      <td>0.020422</td>\n",
       "      <td>0.034202</td>\n",
       "      <td>-0.073855</td>\n",
       "      <td>0.018334</td>\n",
       "      <td>0.030183</td>\n",
       "      <td>-0.045135</td>\n",
       "    </tr>\n",
       "    <tr>\n",
       "      <th>education_high_school</th>\n",
       "      <td>0.122080</td>\n",
       "      <td>-0.173873</td>\n",
       "      <td>-0.031929</td>\n",
       "      <td>-0.025783</td>\n",
       "      <td>-0.084671</td>\n",
       "      <td>-0.034942</td>\n",
       "      <td>-0.066365</td>\n",
       "      <td>0.344564</td>\n",
       "      <td>0.061865</td>\n",
       "      <td>-0.106598</td>\n",
       "      <td>...</td>\n",
       "      <td>-0.007824</td>\n",
       "      <td>-0.106550</td>\n",
       "      <td>0.005522</td>\n",
       "      <td>0.014347</td>\n",
       "      <td>-0.017078</td>\n",
       "      <td>0.008704</td>\n",
       "      <td>-0.051876</td>\n",
       "      <td>-0.020583</td>\n",
       "      <td>-0.015485</td>\n",
       "      <td>-0.007452</td>\n",
       "    </tr>\n",
       "    <tr>\n",
       "      <th>education_illiterate</th>\n",
       "      <td>-0.009498</td>\n",
       "      <td>0.011010</td>\n",
       "      <td>0.008579</td>\n",
       "      <td>0.003938</td>\n",
       "      <td>-0.005780</td>\n",
       "      <td>0.013056</td>\n",
       "      <td>0.015142</td>\n",
       "      <td>-0.006828</td>\n",
       "      <td>-0.003081</td>\n",
       "      <td>-0.009251</td>\n",
       "      <td>...</td>\n",
       "      <td>0.006063</td>\n",
       "      <td>0.017007</td>\n",
       "      <td>-0.002086</td>\n",
       "      <td>-0.002613</td>\n",
       "      <td>-0.002865</td>\n",
       "      <td>-0.009332</td>\n",
       "      <td>0.002497</td>\n",
       "      <td>-0.001263</td>\n",
       "      <td>0.001372</td>\n",
       "      <td>0.007246</td>\n",
       "    </tr>\n",
       "    <tr>\n",
       "      <th>education_professional_course</th>\n",
       "      <td>-0.161464</td>\n",
       "      <td>-0.126531</td>\n",
       "      <td>-0.019858</td>\n",
       "      <td>-0.034931</td>\n",
       "      <td>-0.080331</td>\n",
       "      <td>0.008031</td>\n",
       "      <td>-0.005143</td>\n",
       "      <td>-0.070904</td>\n",
       "      <td>-0.034545</td>\n",
       "      <td>0.484617</td>\n",
       "      <td>...</td>\n",
       "      <td>0.000622</td>\n",
       "      <td>0.002054</td>\n",
       "      <td>-0.003493</td>\n",
       "      <td>-0.007631</td>\n",
       "      <td>0.022154</td>\n",
       "      <td>-0.003827</td>\n",
       "      <td>0.031234</td>\n",
       "      <td>0.019634</td>\n",
       "      <td>0.016493</td>\n",
       "      <td>0.001003</td>\n",
       "    </tr>\n",
       "    <tr>\n",
       "      <th>education_university_degree</th>\n",
       "      <td>0.327321</td>\n",
       "      <td>-0.336592</td>\n",
       "      <td>0.051832</td>\n",
       "      <td>-0.058528</td>\n",
       "      <td>0.248491</td>\n",
       "      <td>-0.059359</td>\n",
       "      <td>0.100652</td>\n",
       "      <td>-0.180257</td>\n",
       "      <td>-0.032660</td>\n",
       "      <td>-0.026327</td>\n",
       "      <td>...</td>\n",
       "      <td>-0.000021</td>\n",
       "      <td>-0.071138</td>\n",
       "      <td>-0.036958</td>\n",
       "      <td>0.025419</td>\n",
       "      <td>-0.045331</td>\n",
       "      <td>-0.091954</td>\n",
       "      <td>0.073705</td>\n",
       "      <td>-0.034208</td>\n",
       "      <td>-0.034143</td>\n",
       "      <td>0.050364</td>\n",
       "    </tr>\n",
       "    <tr>\n",
       "      <th>education_unknown</th>\n",
       "      <td>-0.052604</td>\n",
       "      <td>0.018869</td>\n",
       "      <td>-0.002746</td>\n",
       "      <td>-0.001947</td>\n",
       "      <td>0.000054</td>\n",
       "      <td>0.015554</td>\n",
       "      <td>-0.020367</td>\n",
       "      <td>-0.006891</td>\n",
       "      <td>0.109278</td>\n",
       "      <td>-0.023345</td>\n",
       "      <td>...</td>\n",
       "      <td>0.010917</td>\n",
       "      <td>0.069485</td>\n",
       "      <td>-0.022014</td>\n",
       "      <td>0.022641</td>\n",
       "      <td>-0.003038</td>\n",
       "      <td>0.030016</td>\n",
       "      <td>0.028275</td>\n",
       "      <td>-0.006061</td>\n",
       "      <td>-0.021703</td>\n",
       "      <td>0.021430</td>\n",
       "    </tr>\n",
       "    <tr>\n",
       "      <th>default_no</th>\n",
       "      <td>0.121336</td>\n",
       "      <td>-0.176579</td>\n",
       "      <td>0.000974</td>\n",
       "      <td>-0.036846</td>\n",
       "      <td>0.035478</td>\n",
       "      <td>-0.010113</td>\n",
       "      <td>0.004812</td>\n",
       "      <td>-0.017667</td>\n",
       "      <td>0.032601</td>\n",
       "      <td>0.069407</td>\n",
       "      <td>...</td>\n",
       "      <td>0.004164</td>\n",
       "      <td>-0.165019</td>\n",
       "      <td>-0.080072</td>\n",
       "      <td>0.102533</td>\n",
       "      <td>-0.203285</td>\n",
       "      <td>-0.168234</td>\n",
       "      <td>-0.026443</td>\n",
       "      <td>-0.195337</td>\n",
       "      <td>-0.189829</td>\n",
       "      <td>0.099344</td>\n",
       "    </tr>\n",
       "    <tr>\n",
       "      <th>default_unknown</th>\n",
       "      <td>-0.121248</td>\n",
       "      <td>0.176698</td>\n",
       "      <td>-0.000940</td>\n",
       "      <td>0.036880</td>\n",
       "      <td>-0.035433</td>\n",
       "      <td>0.010152</td>\n",
       "      <td>-0.004779</td>\n",
       "      <td>0.017728</td>\n",
       "      <td>-0.032579</td>\n",
       "      <td>-0.069659</td>\n",
       "      <td>...</td>\n",
       "      <td>-0.004040</td>\n",
       "      <td>0.165001</td>\n",
       "      <td>0.080047</td>\n",
       "      <td>-0.102604</td>\n",
       "      <td>0.203218</td>\n",
       "      <td>0.168322</td>\n",
       "      <td>0.026352</td>\n",
       "      <td>0.195251</td>\n",
       "      <td>0.189728</td>\n",
       "      <td>-0.099293</td>\n",
       "    </tr>\n",
       "    <tr>\n",
       "      <th>default_yes</th>\n",
       "      <td>-0.004967</td>\n",
       "      <td>-0.004594</td>\n",
       "      <td>-0.001634</td>\n",
       "      <td>-0.001387</td>\n",
       "      <td>-0.002359</td>\n",
       "      <td>-0.001782</td>\n",
       "      <td>-0.001613</td>\n",
       "      <td>-0.002787</td>\n",
       "      <td>-0.001257</td>\n",
       "      <td>0.011601</td>\n",
       "      <td>...</td>\n",
       "      <td>-0.005923</td>\n",
       "      <td>0.001891</td>\n",
       "      <td>0.001668</td>\n",
       "      <td>0.002766</td>\n",
       "      <td>0.004445</td>\n",
       "      <td>-0.003141</td>\n",
       "      <td>0.004492</td>\n",
       "      <td>0.005274</td>\n",
       "      <td>0.005941</td>\n",
       "      <td>-0.003041</td>\n",
       "    </tr>\n",
       "    <tr>\n",
       "      <th>housing_no</th>\n",
       "      <td>-0.008529</td>\n",
       "      <td>0.014033</td>\n",
       "      <td>-0.004567</td>\n",
       "      <td>0.003620</td>\n",
       "      <td>0.007787</td>\n",
       "      <td>0.001549</td>\n",
       "      <td>-0.000392</td>\n",
       "      <td>0.003889</td>\n",
       "      <td>-0.004941</td>\n",
       "      <td>-0.009052</td>\n",
       "      <td>...</td>\n",
       "      <td>0.008510</td>\n",
       "      <td>0.001755</td>\n",
       "      <td>0.010131</td>\n",
       "      <td>-0.021677</td>\n",
       "      <td>0.059100</td>\n",
       "      <td>0.077170</td>\n",
       "      <td>0.032388</td>\n",
       "      <td>0.058233</td>\n",
       "      <td>0.045590</td>\n",
       "      <td>-0.011085</td>\n",
       "    </tr>\n",
       "    <tr>\n",
       "      <th>housing_unknown</th>\n",
       "      <td>-0.008570</td>\n",
       "      <td>0.006673</td>\n",
       "      <td>0.000861</td>\n",
       "      <td>0.003526</td>\n",
       "      <td>0.000443</td>\n",
       "      <td>0.002106</td>\n",
       "      <td>0.005076</td>\n",
       "      <td>0.003009</td>\n",
       "      <td>0.002164</td>\n",
       "      <td>-0.006459</td>\n",
       "      <td>...</td>\n",
       "      <td>0.002607</td>\n",
       "      <td>-0.001092</td>\n",
       "      <td>0.002033</td>\n",
       "      <td>0.003769</td>\n",
       "      <td>0.003152</td>\n",
       "      <td>0.016361</td>\n",
       "      <td>0.007236</td>\n",
       "      <td>0.002873</td>\n",
       "      <td>-0.001257</td>\n",
       "      <td>-0.002270</td>\n",
       "    </tr>\n",
       "    <tr>\n",
       "      <th>housing_yes</th>\n",
       "      <td>0.011128</td>\n",
       "      <td>-0.016031</td>\n",
       "      <td>0.004287</td>\n",
       "      <td>-0.004689</td>\n",
       "      <td>-0.007896</td>\n",
       "      <td>-0.002189</td>\n",
       "      <td>-0.001166</td>\n",
       "      <td>-0.004799</td>\n",
       "      <td>0.004261</td>\n",
       "      <td>0.011001</td>\n",
       "      <td>...</td>\n",
       "      <td>-0.009280</td>\n",
       "      <td>-0.001414</td>\n",
       "      <td>-0.010719</td>\n",
       "      <td>0.020446</td>\n",
       "      <td>-0.059862</td>\n",
       "      <td>-0.081920</td>\n",
       "      <td>-0.034496</td>\n",
       "      <td>-0.058913</td>\n",
       "      <td>-0.045046</td>\n",
       "      <td>0.011743</td>\n",
       "    </tr>\n",
       "    <tr>\n",
       "      <th>loan_no</th>\n",
       "      <td>-0.015485</td>\n",
       "      <td>0.003089</td>\n",
       "      <td>0.004789</td>\n",
       "      <td>0.001319</td>\n",
       "      <td>0.000953</td>\n",
       "      <td>0.005822</td>\n",
       "      <td>0.005143</td>\n",
       "      <td>-0.000978</td>\n",
       "      <td>-0.004971</td>\n",
       "      <td>0.008440</td>\n",
       "      <td>...</td>\n",
       "      <td>-0.002793</td>\n",
       "      <td>0.007224</td>\n",
       "      <td>-0.000737</td>\n",
       "      <td>0.000504</td>\n",
       "      <td>-0.002392</td>\n",
       "      <td>-0.000982</td>\n",
       "      <td>0.009975</td>\n",
       "      <td>-0.000697</td>\n",
       "      <td>-0.003458</td>\n",
       "      <td>0.005123</td>\n",
       "    </tr>\n",
       "    <tr>\n",
       "      <th>loan_unknown</th>\n",
       "      <td>-0.008570</td>\n",
       "      <td>0.006673</td>\n",
       "      <td>0.000861</td>\n",
       "      <td>0.003526</td>\n",
       "      <td>0.000443</td>\n",
       "      <td>0.002106</td>\n",
       "      <td>0.005076</td>\n",
       "      <td>0.003009</td>\n",
       "      <td>0.002164</td>\n",
       "      <td>-0.006459</td>\n",
       "      <td>...</td>\n",
       "      <td>0.002607</td>\n",
       "      <td>-0.001092</td>\n",
       "      <td>0.002033</td>\n",
       "      <td>0.003769</td>\n",
       "      <td>0.003152</td>\n",
       "      <td>0.016361</td>\n",
       "      <td>0.007236</td>\n",
       "      <td>0.002873</td>\n",
       "      <td>-0.001257</td>\n",
       "      <td>-0.002270</td>\n",
       "    </tr>\n",
       "    <tr>\n",
       "      <th>loan_yes</th>\n",
       "      <td>0.020088</td>\n",
       "      <td>-0.006127</td>\n",
       "      <td>-0.005449</td>\n",
       "      <td>-0.002905</td>\n",
       "      <td>-0.001201</td>\n",
       "      <td>-0.007076</td>\n",
       "      <td>-0.007624</td>\n",
       "      <td>-0.000247</td>\n",
       "      <td>0.004350</td>\n",
       "      <td>-0.006197</td>\n",
       "      <td>...</td>\n",
       "      <td>0.001850</td>\n",
       "      <td>-0.007198</td>\n",
       "      <td>-0.000086</td>\n",
       "      <td>-0.002143</td>\n",
       "      <td>0.001193</td>\n",
       "      <td>-0.005944</td>\n",
       "      <td>-0.013673</td>\n",
       "      <td>-0.000487</td>\n",
       "      <td>0.004205</td>\n",
       "      <td>-0.004466</td>\n",
       "    </tr>\n",
       "    <tr>\n",
       "      <th>contact_telephone</th>\n",
       "      <td>-0.059227</td>\n",
       "      <td>0.094712</td>\n",
       "      <td>0.018894</td>\n",
       "      <td>0.010455</td>\n",
       "      <td>-0.009031</td>\n",
       "      <td>-0.035096</td>\n",
       "      <td>0.002480</td>\n",
       "      <td>0.035596</td>\n",
       "      <td>-0.040422</td>\n",
       "      <td>-0.048635</td>\n",
       "      <td>...</td>\n",
       "      <td>0.019583</td>\n",
       "      <td>0.007021</td>\n",
       "      <td>0.117970</td>\n",
       "      <td>-0.212848</td>\n",
       "      <td>0.393584</td>\n",
       "      <td>0.591474</td>\n",
       "      <td>0.251614</td>\n",
       "      <td>0.399773</td>\n",
       "      <td>0.269155</td>\n",
       "      <td>-0.144773</td>\n",
       "    </tr>\n",
       "    <tr>\n",
       "      <th>poutcome_failure</th>\n",
       "      <td>0.002771</td>\n",
       "      <td>-0.013254</td>\n",
       "      <td>0.001595</td>\n",
       "      <td>-0.017853</td>\n",
       "      <td>0.009056</td>\n",
       "      <td>0.020917</td>\n",
       "      <td>-0.000741</td>\n",
       "      <td>0.010347</td>\n",
       "      <td>0.040214</td>\n",
       "      <td>-0.016844</td>\n",
       "      <td>...</td>\n",
       "      <td>0.011805</td>\n",
       "      <td>-0.002537</td>\n",
       "      <td>0.006354</td>\n",
       "      <td>0.682608</td>\n",
       "      <td>-0.381706</td>\n",
       "      <td>-0.297718</td>\n",
       "      <td>-0.162592</td>\n",
       "      <td>-0.385417</td>\n",
       "      <td>-0.349602</td>\n",
       "      <td>0.031799</td>\n",
       "    </tr>\n",
       "    <tr>\n",
       "      <th>poutcome_nonexistent</th>\n",
       "      <td>-0.015560</td>\n",
       "      <td>0.043843</td>\n",
       "      <td>0.007598</td>\n",
       "      <td>0.014629</td>\n",
       "      <td>-0.007343</td>\n",
       "      <td>-0.054113</td>\n",
       "      <td>0.007385</td>\n",
       "      <td>0.005760</td>\n",
       "      <td>-0.079189</td>\n",
       "      <td>0.017557</td>\n",
       "      <td>...</td>\n",
       "      <td>-0.007406</td>\n",
       "      <td>-0.016376</td>\n",
       "      <td>0.491353</td>\n",
       "      <td>-0.878776</td>\n",
       "      <td>0.472501</td>\n",
       "      <td>0.304264</td>\n",
       "      <td>0.099724</td>\n",
       "      <td>0.488406</td>\n",
       "      <td>0.493051</td>\n",
       "      <td>-0.193507</td>\n",
       "    </tr>\n",
       "    <tr>\n",
       "      <th>poutcome_success</th>\n",
       "      <td>0.025069</td>\n",
       "      <td>-0.061403</td>\n",
       "      <td>-0.017238</td>\n",
       "      <td>0.002276</td>\n",
       "      <td>-0.001302</td>\n",
       "      <td>0.068061</td>\n",
       "      <td>-0.012871</td>\n",
       "      <td>-0.028558</td>\n",
       "      <td>0.083321</td>\n",
       "      <td>-0.005036</td>\n",
       "      <td>...</td>\n",
       "      <td>-0.005842</td>\n",
       "      <td>0.035626</td>\n",
       "      <td>-0.950700</td>\n",
       "      <td>0.524045</td>\n",
       "      <td>-0.256886</td>\n",
       "      <td>-0.077416</td>\n",
       "      <td>0.084824</td>\n",
       "      <td>-0.281022</td>\n",
       "      <td>-0.350613</td>\n",
       "      <td>0.316269</td>\n",
       "    </tr>\n",
       "    <tr>\n",
       "      <th>age</th>\n",
       "      <td>0.011745</td>\n",
       "      <td>-0.001775</td>\n",
       "      <td>-0.002203</td>\n",
       "      <td>0.004226</td>\n",
       "      <td>-0.009135</td>\n",
       "      <td>-0.006847</td>\n",
       "      <td>0.006361</td>\n",
       "      <td>0.002383</td>\n",
       "      <td>-0.024657</td>\n",
       "      <td>0.001557</td>\n",
       "      <td>...</td>\n",
       "      <td>0.015098</td>\n",
       "      <td>0.004594</td>\n",
       "      <td>0.052584</td>\n",
       "      <td>-0.079141</td>\n",
       "      <td>0.150754</td>\n",
       "      <td>0.127836</td>\n",
       "      <td>-0.013733</td>\n",
       "      <td>0.135133</td>\n",
       "      <td>0.144095</td>\n",
       "      <td>-0.066357</td>\n",
       "    </tr>\n",
       "    <tr>\n",
       "      <th>month</th>\n",
       "      <td>0.048007</td>\n",
       "      <td>-0.137050</td>\n",
       "      <td>0.017709</td>\n",
       "      <td>0.015749</td>\n",
       "      <td>0.052320</td>\n",
       "      <td>0.042128</td>\n",
       "      <td>0.017154</td>\n",
       "      <td>-0.061668</td>\n",
       "      <td>-0.000735</td>\n",
       "      <td>0.053849</td>\n",
       "      <td>...</td>\n",
       "      <td>-0.006959</td>\n",
       "      <td>0.077265</td>\n",
       "      <td>-0.079556</td>\n",
       "      <td>0.063754</td>\n",
       "      <td>0.058874</td>\n",
       "      <td>-0.150350</td>\n",
       "      <td>0.264227</td>\n",
       "      <td>0.163411</td>\n",
       "      <td>0.132697</td>\n",
       "      <td>0.037187</td>\n",
       "    </tr>\n",
       "    <tr>\n",
       "      <th>day_of_week</th>\n",
       "      <td>0.005294</td>\n",
       "      <td>0.007334</td>\n",
       "      <td>-0.001329</td>\n",
       "      <td>-0.011988</td>\n",
       "      <td>-0.010201</td>\n",
       "      <td>-0.004719</td>\n",
       "      <td>0.004525</td>\n",
       "      <td>-0.003029</td>\n",
       "      <td>0.001535</td>\n",
       "      <td>0.001473</td>\n",
       "      <td>...</td>\n",
       "      <td>1.000000</td>\n",
       "      <td>-0.018486</td>\n",
       "      <td>0.006765</td>\n",
       "      <td>0.004013</td>\n",
       "      <td>-0.004401</td>\n",
       "      <td>-0.004586</td>\n",
       "      <td>-0.000099</td>\n",
       "      <td>-0.005552</td>\n",
       "      <td>-0.000734</td>\n",
       "      <td>0.010051</td>\n",
       "    </tr>\n",
       "    <tr>\n",
       "      <th>campaign</th>\n",
       "      <td>-0.102584</td>\n",
       "      <td>-0.024191</td>\n",
       "      <td>0.031213</td>\n",
       "      <td>0.085403</td>\n",
       "      <td>0.062040</td>\n",
       "      <td>0.440772</td>\n",
       "      <td>-0.001356</td>\n",
       "      <td>-0.065731</td>\n",
       "      <td>-0.199749</td>\n",
       "      <td>-0.064383</td>\n",
       "      <td>...</td>\n",
       "      <td>-0.018486</td>\n",
       "      <td>1.000000</td>\n",
       "      <td>-0.034369</td>\n",
       "      <td>0.024365</td>\n",
       "      <td>-0.000371</td>\n",
       "      <td>0.000857</td>\n",
       "      <td>0.129372</td>\n",
       "      <td>0.010767</td>\n",
       "      <td>-0.017725</td>\n",
       "      <td>0.030399</td>\n",
       "    </tr>\n",
       "    <tr>\n",
       "      <th>pdays</th>\n",
       "      <td>-0.025398</td>\n",
       "      <td>0.065335</td>\n",
       "      <td>0.019246</td>\n",
       "      <td>-0.001649</td>\n",
       "      <td>0.000254</td>\n",
       "      <td>-0.072084</td>\n",
       "      <td>0.014307</td>\n",
       "      <td>0.030573</td>\n",
       "      <td>-0.096367</td>\n",
       "      <td>0.004575</td>\n",
       "      <td>...</td>\n",
       "      <td>0.006765</td>\n",
       "      <td>-0.034369</td>\n",
       "      <td>1.000000</td>\n",
       "      <td>-0.587514</td>\n",
       "      <td>0.271004</td>\n",
       "      <td>0.078889</td>\n",
       "      <td>-0.091342</td>\n",
       "      <td>0.296899</td>\n",
       "      <td>0.372605</td>\n",
       "      <td>-0.324914</td>\n",
       "    </tr>\n",
       "    <tr>\n",
       "      <th>previous</th>\n",
       "      <td>0.018888</td>\n",
       "      <td>-0.054845</td>\n",
       "      <td>-0.013239</td>\n",
       "      <td>-0.011569</td>\n",
       "      <td>0.006735</td>\n",
       "      <td>0.065113</td>\n",
       "      <td>-0.011231</td>\n",
       "      <td>-0.011885</td>\n",
       "      <td>0.104671</td>\n",
       "      <td>-0.017142</td>\n",
       "      <td>...</td>\n",
       "      <td>0.004013</td>\n",
       "      <td>0.024365</td>\n",
       "      <td>-0.587514</td>\n",
       "      <td>1.000000</td>\n",
       "      <td>-0.420489</td>\n",
       "      <td>-0.203130</td>\n",
       "      <td>-0.050936</td>\n",
       "      <td>-0.454494</td>\n",
       "      <td>-0.501333</td>\n",
       "      <td>0.230181</td>\n",
       "    </tr>\n",
       "    <tr>\n",
       "      <th>emp.var.rate</th>\n",
       "      <td>-0.024572</td>\n",
       "      <td>0.057264</td>\n",
       "      <td>0.009363</td>\n",
       "      <td>0.036367</td>\n",
       "      <td>-0.016642</td>\n",
       "      <td>-0.103678</td>\n",
       "      <td>0.001477</td>\n",
       "      <td>0.019431</td>\n",
       "      <td>-0.139725</td>\n",
       "      <td>0.054268</td>\n",
       "      <td>...</td>\n",
       "      <td>-0.004401</td>\n",
       "      <td>-0.000371</td>\n",
       "      <td>0.271004</td>\n",
       "      <td>-0.420489</td>\n",
       "      <td>1.000000</td>\n",
       "      <td>0.775334</td>\n",
       "      <td>0.196041</td>\n",
       "      <td>0.972245</td>\n",
       "      <td>0.906970</td>\n",
       "      <td>-0.298334</td>\n",
       "    </tr>\n",
       "    <tr>\n",
       "      <th>cons.price.idx</th>\n",
       "      <td>-0.041840</td>\n",
       "      <td>0.075322</td>\n",
       "      <td>0.009825</td>\n",
       "      <td>0.028335</td>\n",
       "      <td>-0.025268</td>\n",
       "      <td>-0.052251</td>\n",
       "      <td>-0.005122</td>\n",
       "      <td>0.033282</td>\n",
       "      <td>-0.062117</td>\n",
       "      <td>-0.010849</td>\n",
       "      <td>...</td>\n",
       "      <td>-0.004586</td>\n",
       "      <td>0.000857</td>\n",
       "      <td>0.078889</td>\n",
       "      <td>-0.203130</td>\n",
       "      <td>0.775334</td>\n",
       "      <td>1.000000</td>\n",
       "      <td>0.058986</td>\n",
       "      <td>0.688230</td>\n",
       "      <td>0.522034</td>\n",
       "      <td>-0.136211</td>\n",
       "    </tr>\n",
       "    <tr>\n",
       "      <th>cons.conf.idx</th>\n",
       "      <td>0.032341</td>\n",
       "      <td>-0.101567</td>\n",
       "      <td>-0.032306</td>\n",
       "      <td>0.035374</td>\n",
       "      <td>0.000784</td>\n",
       "      <td>0.087033</td>\n",
       "      <td>0.000592</td>\n",
       "      <td>-0.055561</td>\n",
       "      <td>0.010029</td>\n",
       "      <td>0.054973</td>\n",
       "      <td>...</td>\n",
       "      <td>-0.000099</td>\n",
       "      <td>0.129372</td>\n",
       "      <td>-0.091342</td>\n",
       "      <td>-0.050936</td>\n",
       "      <td>0.196041</td>\n",
       "      <td>0.058986</td>\n",
       "      <td>1.000000</td>\n",
       "      <td>0.277686</td>\n",
       "      <td>0.100513</td>\n",
       "      <td>0.054878</td>\n",
       "    </tr>\n",
       "    <tr>\n",
       "      <th>euribor3m</th>\n",
       "      <td>-0.023831</td>\n",
       "      <td>0.046775</td>\n",
       "      <td>0.018744</td>\n",
       "      <td>0.036392</td>\n",
       "      <td>-0.001590</td>\n",
       "      <td>-0.102454</td>\n",
       "      <td>0.007421</td>\n",
       "      <td>0.014666</td>\n",
       "      <td>-0.147551</td>\n",
       "      <td>0.050793</td>\n",
       "      <td>...</td>\n",
       "      <td>-0.005552</td>\n",
       "      <td>0.010767</td>\n",
       "      <td>0.296899</td>\n",
       "      <td>-0.454494</td>\n",
       "      <td>0.972245</td>\n",
       "      <td>0.688230</td>\n",
       "      <td>0.277686</td>\n",
       "      <td>1.000000</td>\n",
       "      <td>0.945154</td>\n",
       "      <td>-0.307771</td>\n",
       "    </tr>\n",
       "    <tr>\n",
       "      <th>nr.employed</th>\n",
       "      <td>-0.023446</td>\n",
       "      <td>0.063921</td>\n",
       "      <td>0.024581</td>\n",
       "      <td>0.028105</td>\n",
       "      <td>-0.001475</td>\n",
       "      <td>-0.129367</td>\n",
       "      <td>0.009519</td>\n",
       "      <td>0.020629</td>\n",
       "      <td>-0.165365</td>\n",
       "      <td>0.052741</td>\n",
       "      <td>...</td>\n",
       "      <td>-0.000734</td>\n",
       "      <td>-0.017725</td>\n",
       "      <td>0.372605</td>\n",
       "      <td>-0.501333</td>\n",
       "      <td>0.906970</td>\n",
       "      <td>0.522034</td>\n",
       "      <td>0.100513</td>\n",
       "      <td>0.945154</td>\n",
       "      <td>1.000000</td>\n",
       "      <td>-0.354678</td>\n",
       "    </tr>\n",
       "    <tr>\n",
       "      <th>y</th>\n",
       "      <td>0.031426</td>\n",
       "      <td>-0.074423</td>\n",
       "      <td>-0.016644</td>\n",
       "      <td>-0.006505</td>\n",
       "      <td>-0.000419</td>\n",
       "      <td>0.092221</td>\n",
       "      <td>-0.004663</td>\n",
       "      <td>-0.032301</td>\n",
       "      <td>0.093955</td>\n",
       "      <td>-0.006149</td>\n",
       "      <td>...</td>\n",
       "      <td>0.010051</td>\n",
       "      <td>0.030399</td>\n",
       "      <td>-0.324914</td>\n",
       "      <td>0.230181</td>\n",
       "      <td>-0.298334</td>\n",
       "      <td>-0.136211</td>\n",
       "      <td>0.054878</td>\n",
       "      <td>-0.307771</td>\n",
       "      <td>-0.354678</td>\n",
       "      <td>1.000000</td>\n",
       "    </tr>\n",
       "  </tbody>\n",
       "</table>\n",
       "<p>49 rows × 49 columns</p>\n",
       "</div>"
      ],
      "text/plain": [
       "                               job_admin  job_blue-collar  job_entrepreneur  \\\n",
       "job_admin                       1.000000        -0.313313         -0.111417   \n",
       "job_blue-collar                -0.313313         1.000000         -0.103050   \n",
       "job_entrepreneur               -0.111417        -0.103050          1.000000   \n",
       "job_housemaid                  -0.094595        -0.087492         -0.031113   \n",
       "job_management                 -0.160892        -0.148810         -0.052918   \n",
       "job_retired                    -0.121502        -0.112378         -0.039962   \n",
       "job_self-employed              -0.110021        -0.101759         -0.036186   \n",
       "job_services                   -0.190063        -0.175791         -0.062513   \n",
       "job_student                    -0.085748        -0.079308         -0.028203   \n",
       "job_technician                 -0.257516        -0.238178         -0.084698   \n",
       "job_unemployed                 -0.092467        -0.085523         -0.030413   \n",
       "job_unknown                    -0.052307        -0.048379         -0.017204   \n",
       "marital_divorced                0.020013        -0.056857          0.006657   \n",
       "marital_married                -0.120494         0.129272          0.051050   \n",
       "marital_single                  0.117787        -0.100192         -0.060245   \n",
       "marital_unknown                -0.007918        -0.005251          0.000514   \n",
       "education_basic_4y             -0.181255         0.265906         -0.004627   \n",
       "education_basic_6y             -0.104499         0.231184         -0.005748   \n",
       "education_basic_9y             -0.162641         0.372303         -0.001371   \n",
       "education_high_school           0.122080        -0.173873         -0.031929   \n",
       "education_illiterate           -0.009498         0.011010          0.008579   \n",
       "education_professional_course  -0.161464        -0.126531         -0.019858   \n",
       "education_university_degree     0.327321        -0.336592          0.051832   \n",
       "education_unknown              -0.052604         0.018869         -0.002746   \n",
       "default_no                      0.121336        -0.176579          0.000974   \n",
       "default_unknown                -0.121248         0.176698         -0.000940   \n",
       "default_yes                    -0.004967        -0.004594         -0.001634   \n",
       "housing_no                     -0.008529         0.014033         -0.004567   \n",
       "housing_unknown                -0.008570         0.006673          0.000861   \n",
       "housing_yes                     0.011128        -0.016031          0.004287   \n",
       "loan_no                        -0.015485         0.003089          0.004789   \n",
       "loan_unknown                   -0.008570         0.006673          0.000861   \n",
       "loan_yes                        0.020088        -0.006127         -0.005449   \n",
       "contact_telephone              -0.059227         0.094712          0.018894   \n",
       "poutcome_failure                0.002771        -0.013254          0.001595   \n",
       "poutcome_nonexistent           -0.015560         0.043843          0.007598   \n",
       "poutcome_success                0.025069        -0.061403         -0.017238   \n",
       "age                             0.011745        -0.001775         -0.002203   \n",
       "month                           0.048007        -0.137050          0.017709   \n",
       "day_of_week                     0.005294         0.007334         -0.001329   \n",
       "campaign                       -0.102584        -0.024191          0.031213   \n",
       "pdays                          -0.025398         0.065335          0.019246   \n",
       "previous                        0.018888        -0.054845         -0.013239   \n",
       "emp.var.rate                   -0.024572         0.057264          0.009363   \n",
       "cons.price.idx                 -0.041840         0.075322          0.009825   \n",
       "cons.conf.idx                   0.032341        -0.101567         -0.032306   \n",
       "euribor3m                      -0.023831         0.046775          0.018744   \n",
       "nr.employed                    -0.023446         0.063921          0.024581   \n",
       "y                               0.031426        -0.074423         -0.016644   \n",
       "\n",
       "                               job_housemaid  job_management  job_retired  \\\n",
       "job_admin                          -0.094595       -0.160892    -0.121502   \n",
       "job_blue-collar                    -0.087492       -0.148810    -0.112378   \n",
       "job_entrepreneur                   -0.031113       -0.052918    -0.039962   \n",
       "job_housemaid                       1.000000       -0.044929    -0.033929   \n",
       "job_management                     -0.044929        1.000000    -0.057708   \n",
       "job_retired                        -0.033929       -0.057708     1.000000   \n",
       "job_self-employed                  -0.030723       -0.052255    -0.039462   \n",
       "job_services                       -0.053075       -0.090272    -0.068171   \n",
       "job_student                        -0.023945       -0.040726    -0.030756   \n",
       "job_technician                     -0.071911       -0.122309    -0.092365   \n",
       "job_unemployed                     -0.025821       -0.043918    -0.033166   \n",
       "job_unknown                        -0.014607       -0.024843    -0.018761   \n",
       "marital_divorced                    0.020571        0.001075     0.059814   \n",
       "marital_married                     0.042492        0.061761     0.057858   \n",
       "marital_single                     -0.060971       -0.067364    -0.105345   \n",
       "marital_unknown                     0.003278       -0.005753     0.004574   \n",
       "education_basic_4y                  0.186187       -0.061533     0.169931   \n",
       "education_basic_6y                  0.012049       -0.032049    -0.010967   \n",
       "education_basic_9y                 -0.026678       -0.070301    -0.036849   \n",
       "education_high_school              -0.025783       -0.084671    -0.034942   \n",
       "education_illiterate                0.003938       -0.005780     0.013056   \n",
       "education_professional_course      -0.034931       -0.080331     0.008031   \n",
       "education_university_degree        -0.058528        0.248491    -0.059359   \n",
       "education_unknown                  -0.001947        0.000054     0.015554   \n",
       "default_no                         -0.036846        0.035478    -0.010113   \n",
       "default_unknown                     0.036880       -0.035433     0.010152   \n",
       "default_yes                        -0.001387       -0.002359    -0.001782   \n",
       "housing_no                          0.003620        0.007787     0.001549   \n",
       "housing_unknown                     0.003526        0.000443     0.002106   \n",
       "housing_yes                        -0.004689       -0.007896    -0.002189   \n",
       "loan_no                             0.001319        0.000953     0.005822   \n",
       "loan_unknown                        0.003526        0.000443     0.002106   \n",
       "loan_yes                           -0.002905       -0.001201    -0.007076   \n",
       "contact_telephone                   0.010455       -0.009031    -0.035096   \n",
       "poutcome_failure                   -0.017853        0.009056     0.020917   \n",
       "poutcome_nonexistent                0.014629       -0.007343    -0.054113   \n",
       "poutcome_success                    0.002276       -0.001302     0.068061   \n",
       "age                                 0.004226       -0.009135    -0.006847   \n",
       "month                               0.015749        0.052320     0.042128   \n",
       "day_of_week                        -0.011988       -0.010201    -0.004719   \n",
       "campaign                            0.085403        0.062040     0.440772   \n",
       "pdays                              -0.001649        0.000254    -0.072084   \n",
       "previous                           -0.011569        0.006735     0.065113   \n",
       "emp.var.rate                        0.036367       -0.016642    -0.103678   \n",
       "cons.price.idx                      0.028335       -0.025268    -0.052251   \n",
       "cons.conf.idx                       0.035374        0.000784     0.087033   \n",
       "euribor3m                           0.036392       -0.001590    -0.102454   \n",
       "nr.employed                         0.028105       -0.001475    -0.129367   \n",
       "y                                  -0.006505       -0.000419     0.092221   \n",
       "\n",
       "                               job_self-employed  job_services  job_student  \\\n",
       "job_admin                              -0.110021     -0.190063    -0.085748   \n",
       "job_blue-collar                        -0.101759     -0.175791    -0.079308   \n",
       "job_entrepreneur                       -0.036186     -0.062513    -0.028203   \n",
       "job_housemaid                          -0.030723     -0.053075    -0.023945   \n",
       "job_management                         -0.052255     -0.090272    -0.040726   \n",
       "job_retired                            -0.039462     -0.068171    -0.030756   \n",
       "job_self-employed                       1.000000     -0.061730    -0.027849   \n",
       "job_services                           -0.061730      1.000000    -0.048110   \n",
       "job_student                            -0.027849     -0.048110     1.000000   \n",
       "job_technician                         -0.083637     -0.144485    -0.065185   \n",
       "job_unemployed                         -0.030032     -0.051881    -0.023406   \n",
       "job_unknown                            -0.016988     -0.029348    -0.013240   \n",
       "marital_divorced                       -0.011017      0.022850    -0.047510   \n",
       "marital_married                         0.011968     -0.018202    -0.168294   \n",
       "marital_single                         -0.005950      0.004078     0.216639   \n",
       "marital_unknown                         0.006768     -0.003194    -0.002675   \n",
       "education_basic_4y                     -0.022509     -0.073709    -0.034984   \n",
       "education_basic_6y                     -0.031380      0.001843    -0.026215   \n",
       "education_basic_9y                      0.004303     -0.045225    -0.013998   \n",
       "education_high_school                  -0.066365      0.344564     0.061865   \n",
       "education_illiterate                    0.015142     -0.006828    -0.003081   \n",
       "education_professional_course          -0.005143     -0.070904    -0.034545   \n",
       "education_university_degree             0.100652     -0.180257    -0.032660   \n",
       "education_unknown                      -0.020367     -0.006891     0.109278   \n",
       "default_no                              0.004812     -0.017667     0.032601   \n",
       "default_unknown                        -0.004779      0.017728    -0.032579   \n",
       "default_yes                            -0.001613     -0.002787    -0.001257   \n",
       "housing_no                             -0.000392      0.003889    -0.004941   \n",
       "housing_unknown                         0.005076      0.003009     0.002164   \n",
       "housing_yes                            -0.001166     -0.004799     0.004261   \n",
       "loan_no                                 0.005143     -0.000978    -0.004971   \n",
       "loan_unknown                            0.005076      0.003009     0.002164   \n",
       "loan_yes                               -0.007624     -0.000247     0.004350   \n",
       "contact_telephone                       0.002480      0.035596    -0.040422   \n",
       "poutcome_failure                       -0.000741      0.010347     0.040214   \n",
       "poutcome_nonexistent                    0.007385      0.005760    -0.079189   \n",
       "poutcome_success                       -0.012871     -0.028558     0.083321   \n",
       "age                                     0.006361      0.002383    -0.024657   \n",
       "month                                   0.017154     -0.061668    -0.000735   \n",
       "day_of_week                             0.004525     -0.003029     0.001535   \n",
       "campaign                               -0.001356     -0.065731    -0.199749   \n",
       "pdays                                   0.014307      0.030573    -0.096367   \n",
       "previous                               -0.011231     -0.011885     0.104671   \n",
       "emp.var.rate                            0.001477      0.019431    -0.139725   \n",
       "cons.price.idx                         -0.005122      0.033282    -0.062117   \n",
       "cons.conf.idx                           0.000592     -0.055561     0.010029   \n",
       "euribor3m                               0.007421      0.014666    -0.147551   \n",
       "nr.employed                             0.009519      0.020629    -0.165365   \n",
       "y                                      -0.004663     -0.032301     0.093955   \n",
       "\n",
       "                               job_technician  ...  day_of_week  campaign  \\\n",
       "job_admin                           -0.257516  ...     0.005294 -0.102584   \n",
       "job_blue-collar                     -0.238178  ...     0.007334 -0.024191   \n",
       "job_entrepreneur                    -0.084698  ...    -0.001329  0.031213   \n",
       "job_housemaid                       -0.071911  ...    -0.011988  0.085403   \n",
       "job_management                      -0.122309  ...    -0.010201  0.062040   \n",
       "job_retired                         -0.092365  ...    -0.004719  0.440772   \n",
       "job_self-employed                   -0.083637  ...     0.004525 -0.001356   \n",
       "job_services                        -0.144485  ...    -0.003029 -0.065731   \n",
       "job_student                         -0.065185  ...     0.001535 -0.199749   \n",
       "job_technician                       1.000000  ...     0.001473 -0.064383   \n",
       "job_unemployed                      -0.070293  ...     0.006405 -0.004426   \n",
       "job_unknown                         -0.039763  ...    -0.015100  0.047773   \n",
       "marital_divorced                     0.003945  ...    -0.012428  0.166125   \n",
       "marital_married                     -0.055176  ...    -0.001971  0.271266   \n",
       "marital_single                       0.057404  ...     0.010839 -0.411703   \n",
       "marital_unknown                     -0.001635  ...     0.000247  0.001062   \n",
       "education_basic_4y                  -0.136010  ...    -0.008989  0.244079   \n",
       "education_basic_6y                  -0.082501  ...     0.005162  0.009897   \n",
       "education_basic_9y                  -0.112300  ...     0.006534 -0.038320   \n",
       "education_high_school               -0.106598  ...    -0.007824 -0.106550   \n",
       "education_illiterate                -0.009251  ...     0.006063  0.017007   \n",
       "education_professional_course        0.484617  ...     0.000622  0.002054   \n",
       "education_university_degree         -0.026327  ...    -0.000021 -0.071138   \n",
       "education_unknown                   -0.023345  ...     0.010917  0.069485   \n",
       "default_no                           0.069407  ...     0.004164 -0.165019   \n",
       "default_unknown                     -0.069659  ...    -0.004040  0.165001   \n",
       "default_yes                          0.011601  ...    -0.005923  0.001891   \n",
       "housing_no                          -0.009052  ...     0.008510  0.001755   \n",
       "housing_unknown                     -0.006459  ...     0.002607 -0.001092   \n",
       "housing_yes                          0.011001  ...    -0.009280 -0.001414   \n",
       "loan_no                              0.008440  ...    -0.002793  0.007224   \n",
       "loan_unknown                        -0.006459  ...     0.002607 -0.001092   \n",
       "loan_yes                            -0.006197  ...     0.001850 -0.007198   \n",
       "contact_telephone                   -0.048635  ...     0.019583  0.007021   \n",
       "poutcome_failure                    -0.016844  ...     0.011805 -0.002537   \n",
       "poutcome_nonexistent                 0.017557  ...    -0.007406 -0.016376   \n",
       "poutcome_success                    -0.005036  ...    -0.005842  0.035626   \n",
       "age                                  0.001557  ...     0.015098  0.004594   \n",
       "month                                0.053849  ...    -0.006959  0.077265   \n",
       "day_of_week                          0.001473  ...     1.000000 -0.018486   \n",
       "campaign                            -0.064383  ...    -0.018486  1.000000   \n",
       "pdays                                0.004575  ...     0.006765 -0.034369   \n",
       "previous                            -0.017142  ...     0.004013  0.024365   \n",
       "emp.var.rate                         0.054268  ...    -0.004401 -0.000371   \n",
       "cons.price.idx                      -0.010849  ...    -0.004586  0.000857   \n",
       "cons.conf.idx                        0.054973  ...    -0.000099  0.129372   \n",
       "euribor3m                            0.050793  ...    -0.005552  0.010767   \n",
       "nr.employed                          0.052741  ...    -0.000734 -0.017725   \n",
       "y                                   -0.006149  ...     0.010051  0.030399   \n",
       "\n",
       "                                  pdays  previous  emp.var.rate  \\\n",
       "job_admin                     -0.025398  0.018888     -0.024572   \n",
       "job_blue-collar                0.065335 -0.054845      0.057264   \n",
       "job_entrepreneur               0.019246 -0.013239      0.009363   \n",
       "job_housemaid                 -0.001649 -0.011569      0.036367   \n",
       "job_management                 0.000254  0.006735     -0.016642   \n",
       "job_retired                   -0.072084  0.065113     -0.103678   \n",
       "job_self-employed              0.014307 -0.011231      0.001477   \n",
       "job_services                   0.030573 -0.011885      0.019431   \n",
       "job_student                   -0.096367  0.104671     -0.139725   \n",
       "job_technician                 0.004575 -0.017142      0.054268   \n",
       "job_unemployed                -0.023085  0.008426     -0.019581   \n",
       "job_unknown                   -0.011419 -0.003345      0.015789   \n",
       "marital_divorced               0.011711 -0.003066      0.018558   \n",
       "marital_married                0.031614 -0.043420      0.080189   \n",
       "marital_single                -0.042015  0.048485     -0.099403   \n",
       "marital_unknown               -0.005989  0.009095     -0.008513   \n",
       "education_basic_4y             0.005804 -0.017601      0.028660   \n",
       "education_basic_6y             0.023238 -0.021493      0.023065   \n",
       "education_basic_9y             0.036963 -0.026418      0.020422   \n",
       "education_high_school          0.005522  0.014347     -0.017078   \n",
       "education_illiterate          -0.002086 -0.002613     -0.002865   \n",
       "education_professional_course -0.003493 -0.007631      0.022154   \n",
       "education_university_degree   -0.036958  0.025419     -0.045331   \n",
       "education_unknown             -0.022014  0.022641     -0.003038   \n",
       "default_no                    -0.080072  0.102533     -0.203285   \n",
       "default_unknown                0.080047 -0.102604      0.203218   \n",
       "default_yes                    0.001668  0.002766      0.004445   \n",
       "housing_no                     0.010131 -0.021677      0.059100   \n",
       "housing_unknown                0.002033  0.003769      0.003152   \n",
       "housing_yes                   -0.010719  0.020446     -0.059862   \n",
       "loan_no                       -0.000737  0.000504     -0.002392   \n",
       "loan_unknown                   0.002033  0.003769      0.003152   \n",
       "loan_yes                      -0.000086 -0.002143      0.001193   \n",
       "contact_telephone              0.117970 -0.212848      0.393584   \n",
       "poutcome_failure               0.006354  0.682608     -0.381706   \n",
       "poutcome_nonexistent           0.491353 -0.878776      0.472501   \n",
       "poutcome_success              -0.950700  0.524045     -0.256886   \n",
       "age                            0.052584 -0.079141      0.150754   \n",
       "month                         -0.079556  0.063754      0.058874   \n",
       "day_of_week                    0.006765  0.004013     -0.004401   \n",
       "campaign                      -0.034369  0.024365     -0.000371   \n",
       "pdays                          1.000000 -0.587514      0.271004   \n",
       "previous                      -0.587514  1.000000     -0.420489   \n",
       "emp.var.rate                   0.271004 -0.420489      1.000000   \n",
       "cons.price.idx                 0.078889 -0.203130      0.775334   \n",
       "cons.conf.idx                 -0.091342 -0.050936      0.196041   \n",
       "euribor3m                      0.296899 -0.454494      0.972245   \n",
       "nr.employed                    0.372605 -0.501333      0.906970   \n",
       "y                             -0.324914  0.230181     -0.298334   \n",
       "\n",
       "                               cons.price.idx  cons.conf.idx  euribor3m  \\\n",
       "job_admin                           -0.041840       0.032341  -0.023831   \n",
       "job_blue-collar                      0.075322      -0.101567   0.046775   \n",
       "job_entrepreneur                     0.009825      -0.032306   0.018744   \n",
       "job_housemaid                        0.028335       0.035374   0.036392   \n",
       "job_management                      -0.025268       0.000784  -0.001590   \n",
       "job_retired                         -0.052251       0.087033  -0.102454   \n",
       "job_self-employed                   -0.005122       0.000592   0.007421   \n",
       "job_services                         0.033282      -0.055561   0.014666   \n",
       "job_student                         -0.062117       0.010029  -0.147551   \n",
       "job_technician                      -0.010849       0.054973   0.050793   \n",
       "job_unemployed                      -0.003262       0.016992  -0.014171   \n",
       "job_unknown                          0.022246       0.033103   0.016982   \n",
       "marital_divorced                     0.018956      -0.015688   0.019309   \n",
       "marital_married                      0.046424       0.062052   0.088908   \n",
       "marital_single                      -0.063013      -0.056186  -0.109479   \n",
       "marital_unknown                     -0.007958      -0.003025  -0.007840   \n",
       "education_basic_4y                   0.047959       0.019068   0.025269   \n",
       "education_basic_6y                   0.031201      -0.032796   0.021225   \n",
       "education_basic_9y                   0.034202      -0.073855   0.018334   \n",
       "education_high_school                0.008704      -0.051876  -0.020583   \n",
       "education_illiterate                -0.009332       0.002497  -0.001263   \n",
       "education_professional_course       -0.003827       0.031234   0.019634   \n",
       "education_university_degree         -0.091954       0.073705  -0.034208   \n",
       "education_unknown                    0.030016       0.028275  -0.006061   \n",
       "default_no                          -0.168234      -0.026443  -0.195337   \n",
       "default_unknown                      0.168322       0.026352   0.195251   \n",
       "default_yes                         -0.003141       0.004492   0.005274   \n",
       "housing_no                           0.077170       0.032388   0.058233   \n",
       "housing_unknown                      0.016361       0.007236   0.002873   \n",
       "housing_yes                         -0.081920      -0.034496  -0.058913   \n",
       "loan_no                             -0.000982       0.009975  -0.000697   \n",
       "loan_unknown                         0.016361       0.007236   0.002873   \n",
       "loan_yes                            -0.005944      -0.013673  -0.000487   \n",
       "contact_telephone                    0.591474       0.251614   0.399773   \n",
       "poutcome_failure                    -0.297718      -0.162592  -0.385417   \n",
       "poutcome_nonexistent                 0.304264       0.099724   0.488406   \n",
       "poutcome_success                    -0.077416       0.084824  -0.281022   \n",
       "age                                  0.127836      -0.013733   0.135133   \n",
       "month                               -0.150350       0.264227   0.163411   \n",
       "day_of_week                         -0.004586      -0.000099  -0.005552   \n",
       "campaign                             0.000857       0.129372   0.010767   \n",
       "pdays                                0.078889      -0.091342   0.296899   \n",
       "previous                            -0.203130      -0.050936  -0.454494   \n",
       "emp.var.rate                         0.775334       0.196041   0.972245   \n",
       "cons.price.idx                       1.000000       0.058986   0.688230   \n",
       "cons.conf.idx                        0.058986       1.000000   0.277686   \n",
       "euribor3m                            0.688230       0.277686   1.000000   \n",
       "nr.employed                          0.522034       0.100513   0.945154   \n",
       "y                                   -0.136211       0.054878  -0.307771   \n",
       "\n",
       "                               nr.employed         y  \n",
       "job_admin                        -0.023446  0.031426  \n",
       "job_blue-collar                   0.063921 -0.074423  \n",
       "job_entrepreneur                  0.024581 -0.016644  \n",
       "job_housemaid                     0.028105 -0.006505  \n",
       "job_management                   -0.001475 -0.000419  \n",
       "job_retired                      -0.129367  0.092221  \n",
       "job_self-employed                 0.009519 -0.004663  \n",
       "job_services                      0.020629 -0.032301  \n",
       "job_student                      -0.165365  0.093955  \n",
       "job_technician                    0.052741 -0.006149  \n",
       "job_unemployed                   -0.021724  0.014752  \n",
       "job_unknown                       0.007334 -0.000151  \n",
       "marital_divorced                  0.018886 -0.010608  \n",
       "marital_married                   0.082479 -0.043398  \n",
       "marital_single                   -0.102382  0.054133  \n",
       "marital_unknown                  -0.005887  0.005211  \n",
       "education_basic_4y                0.014361 -0.010798  \n",
       "education_basic_6y                0.025810 -0.023517  \n",
       "education_basic_9y                0.030183 -0.045135  \n",
       "education_high_school            -0.015485 -0.007452  \n",
       "education_illiterate              0.001372  0.007246  \n",
       "education_professional_course     0.016493  0.001003  \n",
       "education_university_degree      -0.034143  0.050364  \n",
       "education_unknown                -0.021703  0.021430  \n",
       "default_no                       -0.189829  0.099344  \n",
       "default_unknown                   0.189728 -0.099293  \n",
       "default_yes                       0.005941 -0.003041  \n",
       "housing_no                        0.045590 -0.011085  \n",
       "housing_unknown                  -0.001257 -0.002270  \n",
       "housing_yes                      -0.045046  0.011743  \n",
       "loan_no                          -0.003458  0.005123  \n",
       "loan_unknown                     -0.001257 -0.002270  \n",
       "loan_yes                          0.004205 -0.004466  \n",
       "contact_telephone                 0.269155 -0.144773  \n",
       "poutcome_failure                 -0.349602  0.031799  \n",
       "poutcome_nonexistent              0.493051 -0.193507  \n",
       "poutcome_success                 -0.350613  0.316269  \n",
       "age                               0.144095 -0.066357  \n",
       "month                             0.132697  0.037187  \n",
       "day_of_week                      -0.000734  0.010051  \n",
       "campaign                         -0.017725  0.030399  \n",
       "pdays                             0.372605 -0.324914  \n",
       "previous                         -0.501333  0.230181  \n",
       "emp.var.rate                      0.906970 -0.298334  \n",
       "cons.price.idx                    0.522034 -0.136211  \n",
       "cons.conf.idx                     0.100513  0.054878  \n",
       "euribor3m                         0.945154 -0.307771  \n",
       "nr.employed                       1.000000 -0.354678  \n",
       "y                                -0.354678  1.000000  \n",
       "\n",
       "[49 rows x 49 columns]"
      ]
     },
     "execution_count": 27,
     "metadata": {},
     "output_type": "execute_result"
    }
   ],
   "source": [
    "df_cleaned.corr()"
   ]
  },
  {
   "cell_type": "code",
   "execution_count": 28,
   "metadata": {},
   "outputs": [
    {
     "data": {
      "text/html": [
       "<div>\n",
       "<style scoped>\n",
       "    .dataframe tbody tr th:only-of-type {\n",
       "        vertical-align: middle;\n",
       "    }\n",
       "\n",
       "    .dataframe tbody tr th {\n",
       "        vertical-align: top;\n",
       "    }\n",
       "\n",
       "    .dataframe thead th {\n",
       "        text-align: right;\n",
       "    }\n",
       "</style>\n",
       "<table border=\"1\" class=\"dataframe\">\n",
       "  <thead>\n",
       "    <tr style=\"text-align: right;\">\n",
       "      <th></th>\n",
       "      <th>VIF</th>\n",
       "    </tr>\n",
       "  </thead>\n",
       "  <tbody>\n",
       "    <tr>\n",
       "      <th>euribor3m</th>\n",
       "      <td>88.244073</td>\n",
       "    </tr>\n",
       "    <tr>\n",
       "      <th>emp.var.rate</th>\n",
       "      <td>47.304189</td>\n",
       "    </tr>\n",
       "    <tr>\n",
       "      <th>nr.employed</th>\n",
       "      <td>34.509961</td>\n",
       "    </tr>\n",
       "    <tr>\n",
       "      <th>pdays</th>\n",
       "      <td>12.434911</td>\n",
       "    </tr>\n",
       "    <tr>\n",
       "      <th>cons.price.idx</th>\n",
       "      <td>9.398216</td>\n",
       "    </tr>\n",
       "    <tr>\n",
       "      <th>previous</th>\n",
       "      <td>5.903053</td>\n",
       "    </tr>\n",
       "    <tr>\n",
       "      <th>cons.conf.idx</th>\n",
       "      <td>2.955494</td>\n",
       "    </tr>\n",
       "    <tr>\n",
       "      <th>contact_telephone</th>\n",
       "      <td>2.703108</td>\n",
       "    </tr>\n",
       "    <tr>\n",
       "      <th>month</th>\n",
       "      <td>1.998409</td>\n",
       "    </tr>\n",
       "    <tr>\n",
       "      <th>campaign</th>\n",
       "      <td>1.676895</td>\n",
       "    </tr>\n",
       "    <tr>\n",
       "      <th>y</th>\n",
       "      <td>1.246894</td>\n",
       "    </tr>\n",
       "    <tr>\n",
       "      <th>age</th>\n",
       "      <td>1.036672</td>\n",
       "    </tr>\n",
       "    <tr>\n",
       "      <th>day_of_week</th>\n",
       "      <td>1.003750</td>\n",
       "    </tr>\n",
       "  </tbody>\n",
       "</table>\n",
       "</div>"
      ],
      "text/plain": [
       "                         VIF\n",
       "euribor3m          88.244073\n",
       "emp.var.rate       47.304189\n",
       "nr.employed        34.509961\n",
       "pdays              12.434911\n",
       "cons.price.idx      9.398216\n",
       "previous            5.903053\n",
       "cons.conf.idx       2.955494\n",
       "contact_telephone   2.703108\n",
       "month               1.998409\n",
       "campaign            1.676895\n",
       "y                   1.246894\n",
       "age                 1.036672\n",
       "day_of_week         1.003750"
      ]
     },
     "execution_count": 28,
     "metadata": {},
     "output_type": "execute_result"
    }
   ],
   "source": [
    "# vif\n",
    "def vif(exogs, data):\n",
    "    vif_dict = {}\n",
    "    for exog in exogs:\n",
    "        not_exog = [i for i in exogs if i!=exog]\n",
    "        X,y = data[not_exog], data[exog]\n",
    "        r_squared = LinearRegression().fit(X,y).score(X,y)\n",
    "        if r_squared<1.0:\n",
    "            vif = 1 / (1-r_squared)\n",
    "            vif_dict[exog] = vif\n",
    "    df_vif = pd.DataFrame({\"VIF\":vif_dict})\n",
    "    return df_vif\n",
    "\n",
    "vif(df_cleaned.columns,df_cleaned).sort_values(by = \"VIF\", ascending = False)"
   ]
  },
  {
   "cell_type": "code",
   "execution_count": 29,
   "metadata": {},
   "outputs": [],
   "source": [
    "del df_cleaned['euribor3m']"
   ]
  },
  {
   "cell_type": "code",
   "execution_count": 30,
   "metadata": {},
   "outputs": [
    {
     "data": {
      "text/html": [
       "<div>\n",
       "<style scoped>\n",
       "    .dataframe tbody tr th:only-of-type {\n",
       "        vertical-align: middle;\n",
       "    }\n",
       "\n",
       "    .dataframe tbody tr th {\n",
       "        vertical-align: top;\n",
       "    }\n",
       "\n",
       "    .dataframe thead th {\n",
       "        text-align: right;\n",
       "    }\n",
       "</style>\n",
       "<table border=\"1\" class=\"dataframe\">\n",
       "  <thead>\n",
       "    <tr style=\"text-align: right;\">\n",
       "      <th></th>\n",
       "      <th>VIF</th>\n",
       "    </tr>\n",
       "  </thead>\n",
       "  <tbody>\n",
       "    <tr>\n",
       "      <th>emp.var.rate</th>\n",
       "      <td>29.585110</td>\n",
       "    </tr>\n",
       "    <tr>\n",
       "      <th>nr.employed</th>\n",
       "      <td>15.645307</td>\n",
       "    </tr>\n",
       "    <tr>\n",
       "      <th>pdays</th>\n",
       "      <td>12.434952</td>\n",
       "    </tr>\n",
       "    <tr>\n",
       "      <th>cons.price.idx</th>\n",
       "      <td>8.927707</td>\n",
       "    </tr>\n",
       "    <tr>\n",
       "      <th>previous</th>\n",
       "      <td>5.899206</td>\n",
       "    </tr>\n",
       "    <tr>\n",
       "      <th>contact_telephone</th>\n",
       "      <td>2.466513</td>\n",
       "    </tr>\n",
       "    <tr>\n",
       "      <th>cons.conf.idx</th>\n",
       "      <td>1.942294</td>\n",
       "    </tr>\n",
       "    <tr>\n",
       "      <th>campaign</th>\n",
       "      <td>1.676765</td>\n",
       "    </tr>\n",
       "    <tr>\n",
       "      <th>month</th>\n",
       "      <td>1.483359</td>\n",
       "    </tr>\n",
       "    <tr>\n",
       "      <th>y</th>\n",
       "      <td>1.246662</td>\n",
       "    </tr>\n",
       "    <tr>\n",
       "      <th>age</th>\n",
       "      <td>1.029331</td>\n",
       "    </tr>\n",
       "    <tr>\n",
       "      <th>day_of_week</th>\n",
       "      <td>1.002816</td>\n",
       "    </tr>\n",
       "  </tbody>\n",
       "</table>\n",
       "</div>"
      ],
      "text/plain": [
       "                         VIF\n",
       "emp.var.rate       29.585110\n",
       "nr.employed        15.645307\n",
       "pdays              12.434952\n",
       "cons.price.idx      8.927707\n",
       "previous            5.899206\n",
       "contact_telephone   2.466513\n",
       "cons.conf.idx       1.942294\n",
       "campaign            1.676765\n",
       "month               1.483359\n",
       "y                   1.246662\n",
       "age                 1.029331\n",
       "day_of_week         1.002816"
      ]
     },
     "execution_count": 30,
     "metadata": {},
     "output_type": "execute_result"
    }
   ],
   "source": [
    "vif(df_cleaned.columns,df_cleaned).sort_values(by = \"VIF\", ascending = False)"
   ]
  },
  {
   "cell_type": "code",
   "execution_count": 31,
   "metadata": {},
   "outputs": [],
   "source": [
    "del df_cleaned['emp.var.rate']"
   ]
  },
  {
   "cell_type": "code",
   "execution_count": 32,
   "metadata": {},
   "outputs": [
    {
     "data": {
      "text/html": [
       "<div>\n",
       "<style scoped>\n",
       "    .dataframe tbody tr th:only-of-type {\n",
       "        vertical-align: middle;\n",
       "    }\n",
       "\n",
       "    .dataframe tbody tr th {\n",
       "        vertical-align: top;\n",
       "    }\n",
       "\n",
       "    .dataframe thead th {\n",
       "        text-align: right;\n",
       "    }\n",
       "</style>\n",
       "<table border=\"1\" class=\"dataframe\">\n",
       "  <thead>\n",
       "    <tr style=\"text-align: right;\">\n",
       "      <th></th>\n",
       "      <th>VIF</th>\n",
       "    </tr>\n",
       "  </thead>\n",
       "  <tbody>\n",
       "    <tr>\n",
       "      <th>pdays</th>\n",
       "      <td>12.429748</td>\n",
       "    </tr>\n",
       "    <tr>\n",
       "      <th>previous</th>\n",
       "      <td>5.861909</td>\n",
       "    </tr>\n",
       "    <tr>\n",
       "      <th>nr.employed</th>\n",
       "      <td>2.295162</td>\n",
       "    </tr>\n",
       "    <tr>\n",
       "      <th>cons.price.idx</th>\n",
       "      <td>2.287673</td>\n",
       "    </tr>\n",
       "    <tr>\n",
       "      <th>contact_telephone</th>\n",
       "      <td>2.067162</td>\n",
       "    </tr>\n",
       "    <tr>\n",
       "      <th>campaign</th>\n",
       "      <td>1.676486</td>\n",
       "    </tr>\n",
       "    <tr>\n",
       "      <th>month</th>\n",
       "      <td>1.450474</td>\n",
       "    </tr>\n",
       "    <tr>\n",
       "      <th>cons.conf.idx</th>\n",
       "      <td>1.381542</td>\n",
       "    </tr>\n",
       "    <tr>\n",
       "      <th>y</th>\n",
       "      <td>1.237299</td>\n",
       "    </tr>\n",
       "    <tr>\n",
       "      <th>age</th>\n",
       "      <td>1.029286</td>\n",
       "    </tr>\n",
       "    <tr>\n",
       "      <th>day_of_week</th>\n",
       "      <td>1.002754</td>\n",
       "    </tr>\n",
       "  </tbody>\n",
       "</table>\n",
       "</div>"
      ],
      "text/plain": [
       "                         VIF\n",
       "pdays              12.429748\n",
       "previous            5.861909\n",
       "nr.employed         2.295162\n",
       "cons.price.idx      2.287673\n",
       "contact_telephone   2.067162\n",
       "campaign            1.676486\n",
       "month               1.450474\n",
       "cons.conf.idx       1.381542\n",
       "y                   1.237299\n",
       "age                 1.029286\n",
       "day_of_week         1.002754"
      ]
     },
     "execution_count": 32,
     "metadata": {},
     "output_type": "execute_result"
    }
   ],
   "source": [
    "vif(df_cleaned.columns,df_cleaned).sort_values(by = \"VIF\", ascending = False)"
   ]
  },
  {
   "cell_type": "code",
   "execution_count": 33,
   "metadata": {},
   "outputs": [],
   "source": [
    "del df_cleaned['pdays']"
   ]
  },
  {
   "cell_type": "code",
   "execution_count": 34,
   "metadata": {},
   "outputs": [
    {
     "data": {
      "text/html": [
       "<div>\n",
       "<style scoped>\n",
       "    .dataframe tbody tr th:only-of-type {\n",
       "        vertical-align: middle;\n",
       "    }\n",
       "\n",
       "    .dataframe tbody tr th {\n",
       "        vertical-align: top;\n",
       "    }\n",
       "\n",
       "    .dataframe thead th {\n",
       "        text-align: right;\n",
       "    }\n",
       "</style>\n",
       "<table border=\"1\" class=\"dataframe\">\n",
       "  <thead>\n",
       "    <tr style=\"text-align: right;\">\n",
       "      <th></th>\n",
       "      <th>VIF</th>\n",
       "    </tr>\n",
       "  </thead>\n",
       "  <tbody>\n",
       "    <tr>\n",
       "      <th>previous</th>\n",
       "      <td>5.189571</td>\n",
       "    </tr>\n",
       "    <tr>\n",
       "      <th>nr.employed</th>\n",
       "      <td>2.293735</td>\n",
       "    </tr>\n",
       "    <tr>\n",
       "      <th>cons.price.idx</th>\n",
       "      <td>2.287444</td>\n",
       "    </tr>\n",
       "    <tr>\n",
       "      <th>contact_telephone</th>\n",
       "      <td>2.066967</td>\n",
       "    </tr>\n",
       "    <tr>\n",
       "      <th>campaign</th>\n",
       "      <td>1.676114</td>\n",
       "    </tr>\n",
       "    <tr>\n",
       "      <th>month</th>\n",
       "      <td>1.450144</td>\n",
       "    </tr>\n",
       "    <tr>\n",
       "      <th>cons.conf.idx</th>\n",
       "      <td>1.378930</td>\n",
       "    </tr>\n",
       "    <tr>\n",
       "      <th>y</th>\n",
       "      <td>1.234972</td>\n",
       "    </tr>\n",
       "    <tr>\n",
       "      <th>age</th>\n",
       "      <td>1.029230</td>\n",
       "    </tr>\n",
       "    <tr>\n",
       "      <th>day_of_week</th>\n",
       "      <td>1.002771</td>\n",
       "    </tr>\n",
       "  </tbody>\n",
       "</table>\n",
       "</div>"
      ],
      "text/plain": [
       "                        VIF\n",
       "previous           5.189571\n",
       "nr.employed        2.293735\n",
       "cons.price.idx     2.287444\n",
       "contact_telephone  2.066967\n",
       "campaign           1.676114\n",
       "month              1.450144\n",
       "cons.conf.idx      1.378930\n",
       "y                  1.234972\n",
       "age                1.029230\n",
       "day_of_week        1.002771"
      ]
     },
     "execution_count": 34,
     "metadata": {},
     "output_type": "execute_result"
    }
   ],
   "source": [
    "vif(df_cleaned.columns,df_cleaned).sort_values(by = \"VIF\", ascending = False)"
   ]
  },
  {
   "cell_type": "code",
   "execution_count": 35,
   "metadata": {},
   "outputs": [],
   "source": [
    "df_cleaned.to_csv('data/bank_4.csv',index=False)"
   ]
  },
  {
   "cell_type": "code",
   "execution_count": 36,
   "metadata": {},
   "outputs": [],
   "source": [
    "df_cleaned = pd.read_csv('data/bank_4.csv')"
   ]
  },
  {
   "cell_type": "markdown",
   "metadata": {},
   "source": [
    "### Problem 6: Train/Test Split\n",
    "\n",
    "With your data prepared, split it into a train and test set."
   ]
  },
  {
   "cell_type": "code",
   "execution_count": 37,
   "metadata": {},
   "outputs": [],
   "source": [
    "X,y = df_cleaned.drop('y', axis = 1), df_cleaned.y"
   ]
  },
  {
   "cell_type": "code",
   "execution_count": 38,
   "metadata": {},
   "outputs": [],
   "source": [
    "X_train, X_test, y_train, y_test = train_test_split(X, y, random_state = 42,stratify = df.y)"
   ]
  },
  {
   "cell_type": "code",
   "execution_count": 39,
   "metadata": {},
   "outputs": [],
   "source": [
    "sc = StandardScaler()\n",
    "X_train = sc.fit_transform(X_train)\n",
    "X_test = sc.fit_transform(X_test)"
   ]
  },
  {
   "cell_type": "markdown",
   "metadata": {},
   "source": [
    "### Problem 7: A Baseline Model\n",
    "\n",
    "Before we build our first model, we want to establish a baseline.  What is the baseline performance that our classifier should aim to beat?"
   ]
  },
  {
   "cell_type": "code",
   "execution_count": 40,
   "metadata": {},
   "outputs": [
    {
     "data": {
      "text/plain": [
       "0.0    0.887346\n",
       "1.0    0.112654\n",
       "Name: y, dtype: float64"
      ]
     },
     "execution_count": 40,
     "metadata": {},
     "output_type": "execute_result"
    }
   ],
   "source": [
    "y_test.value_counts(normalize = True)"
   ]
  },
  {
   "cell_type": "code",
   "execution_count": 41,
   "metadata": {},
   "outputs": [
    {
     "data": {
      "text/plain": [
       "0.0    0.887346\n",
       "1.0    0.112654\n",
       "Name: y, dtype: float64"
      ]
     },
     "execution_count": 41,
     "metadata": {},
     "output_type": "execute_result"
    }
   ],
   "source": [
    "y_train.value_counts(normalize = True)"
   ]
  },
  {
   "cell_type": "code",
   "execution_count": null,
   "metadata": {},
   "outputs": [],
   "source": []
  },
  {
   "cell_type": "markdown",
   "metadata": {},
   "source": [
    "### Problem 8: A Simple Model\n",
    "\n",
    "Use Logistic Regression to build a basic model on your data.  "
   ]
  },
  {
   "cell_type": "code",
   "execution_count": 42,
   "metadata": {},
   "outputs": [
    {
     "data": {
      "text/plain": [
       "0.07487797737121582"
      ]
     },
     "execution_count": 42,
     "metadata": {},
     "output_type": "execute_result"
    }
   ],
   "source": [
    "start = time.time()\n",
    "lgr = LogisticRegression()\n",
    "lgr.fit(X_train, y_train)\n",
    "stop = time.time()\n",
    "lgr_fit_time = stop - start\n",
    "lgr_fit_time"
   ]
  },
  {
   "cell_type": "markdown",
   "metadata": {},
   "source": [
    "### Problem 9: Score the Model\n",
    "\n",
    "What is the accuracy of your model?"
   ]
  },
  {
   "cell_type": "code",
   "execution_count": 43,
   "metadata": {},
   "outputs": [
    {
     "data": {
      "text/plain": [
       "0.898222783334952"
      ]
     },
     "execution_count": 43,
     "metadata": {},
     "output_type": "execute_result"
    }
   ],
   "source": [
    "lgr_train_score = lgr.score(X_train,y_train)\n",
    "lgr_train_score"
   ]
  },
  {
   "cell_type": "code",
   "execution_count": 44,
   "metadata": {},
   "outputs": [
    {
     "data": {
      "text/plain": [
       "0.9007477906186268"
      ]
     },
     "execution_count": 44,
     "metadata": {},
     "output_type": "execute_result"
    }
   ],
   "source": [
    "lgr_test_score = lgr.score(X_test,y_test)\n",
    "lgr_test_score"
   ]
  },
  {
   "cell_type": "code",
   "execution_count": 109,
   "metadata": {},
   "outputs": [
    {
     "data": {
      "text/html": [
       "<div>\n",
       "<style scoped>\n",
       "    .dataframe tbody tr th:only-of-type {\n",
       "        vertical-align: middle;\n",
       "    }\n",
       "\n",
       "    .dataframe tbody tr th {\n",
       "        vertical-align: top;\n",
       "    }\n",
       "\n",
       "    .dataframe thead th {\n",
       "        text-align: right;\n",
       "    }\n",
       "</style>\n",
       "<table border=\"1\" class=\"dataframe\">\n",
       "  <thead>\n",
       "    <tr style=\"text-align: right;\">\n",
       "      <th></th>\n",
       "      <th>Column</th>\n",
       "      <th>Coeff</th>\n",
       "    </tr>\n",
       "  </thead>\n",
       "  <tbody>\n",
       "    <tr>\n",
       "      <th>36</th>\n",
       "      <td>poutcome_success</td>\n",
       "      <td>0.235762</td>\n",
       "    </tr>\n",
       "    <tr>\n",
       "      <th>43</th>\n",
       "      <td>cons.conf.idx</td>\n",
       "      <td>0.140033</td>\n",
       "    </tr>\n",
       "    <tr>\n",
       "      <th>42</th>\n",
       "      <td>cons.price.idx</td>\n",
       "      <td>0.100133</td>\n",
       "    </tr>\n",
       "    <tr>\n",
       "      <th>5</th>\n",
       "      <td>job_retired</td>\n",
       "      <td>0.085150</td>\n",
       "    </tr>\n",
       "    <tr>\n",
       "      <th>24</th>\n",
       "      <td>default_no</td>\n",
       "      <td>0.063233</td>\n",
       "    </tr>\n",
       "  </tbody>\n",
       "</table>\n",
       "</div>"
      ],
      "text/plain": [
       "              Column     Coeff\n",
       "36  poutcome_success  0.235762\n",
       "43     cons.conf.idx  0.140033\n",
       "42    cons.price.idx  0.100133\n",
       "5        job_retired  0.085150\n",
       "24        default_no  0.063233"
      ]
     },
     "execution_count": 109,
     "metadata": {},
     "output_type": "execute_result"
    }
   ],
   "source": [
    "lgr_imp_dict = {\n",
    "    'Column':X.columns,\n",
    "    'Coeff':lgr.coef_[0]}\n",
    "lgr_imp_df = pd.DataFrame(lgr_imp_dict)\n",
    "lgr_imp_df.sort_values(by='Coeff',ascending=False).head(5)"
   ]
  },
  {
   "cell_type": "code",
   "execution_count": 45,
   "metadata": {},
   "outputs": [
    {
     "data": {
      "image/png": "[encoded data removed]",
      "text/plain": [
       "<Figure size 432x288 with 2 Axes>"
      ]
     },
     "metadata": {
      "needs_background": "light"
     },
     "output_type": "display_data"
    }
   ],
   "source": [
    "lgr_preds = lgr.predict(X_test)\n",
    "confusion_mat = confusion_matrix(y_test, lgr_preds, labels=lgr.classes_)\n",
    "disp = ConfusionMatrixDisplay(confusion_matrix=confusion_mat ,display_labels = ['0', '1'])\n",
    "disp.plot()\n",
    "plt.show()"
   ]
  },
  {
   "cell_type": "markdown",
   "metadata": {},
   "source": [
    "#### Weighted Logistic Regression"
   ]
  },
  {
   "cell_type": "code",
   "execution_count": 46,
   "metadata": {},
   "outputs": [
    {
     "data": {
      "text/plain": [
       "0.09950375556945801"
      ]
     },
     "execution_count": 46,
     "metadata": {},
     "output_type": "execute_result"
    }
   ],
   "source": [
    "start = time.time()\n",
    "lgr_w = LogisticRegression(class_weight='balanced')\n",
    "lgr_w.fit(X_train, y_train)\n",
    "stop = time.time()\n",
    "lgr_w_fit_time = stop - start\n",
    "lgr_w_fit_time"
   ]
  },
  {
   "cell_type": "code",
   "execution_count": 47,
   "metadata": {},
   "outputs": [
    {
     "data": {
      "text/plain": [
       "0.7781878216956395"
      ]
     },
     "execution_count": 47,
     "metadata": {},
     "output_type": "execute_result"
    }
   ],
   "source": [
    "lgr_w_train_score = lgr_w.score(X_train,y_train)\n",
    "lgr_w_train_score"
   ]
  },
  {
   "cell_type": "code",
   "execution_count": 48,
   "metadata": {},
   "outputs": [
    {
     "data": {
      "text/plain": [
       "0.7836262989220161"
      ]
     },
     "execution_count": 48,
     "metadata": {},
     "output_type": "execute_result"
    }
   ],
   "source": [
    "lgr_w_test_score = lgr_w.score(X_test,y_test)\n",
    "lgr_w_test_score"
   ]
  },
  {
   "cell_type": "code",
   "execution_count": 110,
   "metadata": {},
   "outputs": [
    {
     "data": {
      "text/html": [
       "<div>\n",
       "<style scoped>\n",
       "    .dataframe tbody tr th:only-of-type {\n",
       "        vertical-align: middle;\n",
       "    }\n",
       "\n",
       "    .dataframe tbody tr th {\n",
       "        vertical-align: top;\n",
       "    }\n",
       "\n",
       "    .dataframe thead th {\n",
       "        text-align: right;\n",
       "    }\n",
       "</style>\n",
       "<table border=\"1\" class=\"dataframe\">\n",
       "  <thead>\n",
       "    <tr style=\"text-align: right;\">\n",
       "      <th></th>\n",
       "      <th>Column</th>\n",
       "      <th>Coeff</th>\n",
       "    </tr>\n",
       "  </thead>\n",
       "  <tbody>\n",
       "    <tr>\n",
       "      <th>36</th>\n",
       "      <td>poutcome_success</td>\n",
       "      <td>0.236848</td>\n",
       "    </tr>\n",
       "    <tr>\n",
       "      <th>42</th>\n",
       "      <td>cons.price.idx</td>\n",
       "      <td>0.110818</td>\n",
       "    </tr>\n",
       "    <tr>\n",
       "      <th>5</th>\n",
       "      <td>job_retired</td>\n",
       "      <td>0.104515</td>\n",
       "    </tr>\n",
       "    <tr>\n",
       "      <th>43</th>\n",
       "      <td>cons.conf.idx</td>\n",
       "      <td>0.089578</td>\n",
       "    </tr>\n",
       "    <tr>\n",
       "      <th>24</th>\n",
       "      <td>default_no</td>\n",
       "      <td>0.053197</td>\n",
       "    </tr>\n",
       "  </tbody>\n",
       "</table>\n",
       "</div>"
      ],
      "text/plain": [
       "              Column     Coeff\n",
       "36  poutcome_success  0.236848\n",
       "42    cons.price.idx  0.110818\n",
       "5        job_retired  0.104515\n",
       "43     cons.conf.idx  0.089578\n",
       "24        default_no  0.053197"
      ]
     },
     "execution_count": 110,
     "metadata": {},
     "output_type": "execute_result"
    }
   ],
   "source": [
    "lgr_w_imp_dict = {\n",
    "    'Column':X.columns,\n",
    "    'Coeff':lgr_w.coef_[0]}\n",
    "lgr_w_imp_df = pd.DataFrame(lgr_w_imp_dict)\n",
    "lgr_w_imp_df.sort_values(by='Coeff',ascending=False).head(5)"
   ]
  },
  {
   "cell_type": "code",
   "execution_count": 49,
   "metadata": {},
   "outputs": [
    {
     "data": {
      "image/png": "[encoded data removed]",
      "text/plain": [
       "<Figure size 432x288 with 2 Axes>"
      ]
     },
     "metadata": {
      "needs_background": "light"
     },
     "output_type": "display_data"
    }
   ],
   "source": [
    "lgr_w_preds = lgr_w.predict(X_test)\n",
    "confusion_mat = confusion_matrix(y_test, lgr_w_preds, labels=lgr_w.classes_)\n",
    "disp = ConfusionMatrixDisplay(confusion_matrix=confusion_mat ,display_labels = ['0', '1'])\n",
    "disp.plot()\n",
    "plt.show()"
   ]
  },
  {
   "cell_type": "markdown",
   "metadata": {},
   "source": [
    "### Problem 10: Model Comparisons\n",
    "\n",
    "Now, we aim to compare the performance of the Logistic Regression model to our KNN algorithm, Decision Tree, and SVM models.  Using the default settings for each of the models, fit and score each.  Also, be sure to compare the fit time of each of the models.  Present your findings in a `DataFrame` similar to that below:\n",
    "\n",
    "| Model | Train Time | Train Accuracy | Test Accuracy |\n",
    "| ----- | ---------- | -------------  | -----------   |\n",
    "|     |    |.     |.     |"
   ]
  },
  {
   "cell_type": "markdown",
   "metadata": {},
   "source": [
    "#### KNN"
   ]
  },
  {
   "cell_type": "code",
   "execution_count": 50,
   "metadata": {},
   "outputs": [
    {
     "data": {
      "text/plain": [
       "0.004384040832519531"
      ]
     },
     "execution_count": 50,
     "metadata": {},
     "output_type": "execute_result"
    }
   ],
   "source": [
    "start = time.time()\n",
    "knn =  KNeighborsClassifier().fit(X_train, y_train)\n",
    "stop = time.time()\n",
    "knn_fit_time = stop - start\n",
    "knn_fit_time"
   ]
  },
  {
   "cell_type": "code",
   "execution_count": 51,
   "metadata": {},
   "outputs": [
    {
     "data": {
      "text/plain": [
       "0.9105241008708038"
      ]
     },
     "execution_count": 51,
     "metadata": {},
     "output_type": "execute_result"
    }
   ],
   "source": [
    "knn_train_score = knn.score(X_train,y_train)\n",
    "knn_train_score"
   ]
  },
  {
   "cell_type": "code",
   "execution_count": 52,
   "metadata": {},
   "outputs": [
    {
     "data": {
      "text/plain": [
       "0.8931727687676022"
      ]
     },
     "execution_count": 52,
     "metadata": {},
     "output_type": "execute_result"
    }
   ],
   "source": [
    "knn_test_score = knn.score(X_test,y_test)\n",
    "knn_test_score"
   ]
  },
  {
   "cell_type": "code",
   "execution_count": 53,
   "metadata": {},
   "outputs": [
    {
     "data": {
      "image/png": "[encoded data removed]",
      "text/plain": [
       "<Figure size 432x288 with 2 Axes>"
      ]
     },
     "metadata": {
      "needs_background": "light"
     },
     "output_type": "display_data"
    }
   ],
   "source": [
    "knn_preds = knn.predict(X_test)\n",
    "confusion_mat = confusion_matrix(y_test, knn_preds, labels=knn.classes_)\n",
    "disp = ConfusionMatrixDisplay(confusion_matrix=confusion_mat ,display_labels = ['0', '1'])\n",
    "disp.plot()\n",
    "plt.show()"
   ]
  },
  {
   "cell_type": "markdown",
   "metadata": {},
   "source": [
    "#### Decision Tree"
   ]
  },
  {
   "cell_type": "code",
   "execution_count": 54,
   "metadata": {},
   "outputs": [
    {
     "data": {
      "text/plain": [
       "0.15347003936767578"
      ]
     },
     "execution_count": 54,
     "metadata": {},
     "output_type": "execute_result"
    }
   ],
   "source": [
    "start = time.time()\n",
    "dt =  DecisionTreeClassifier().fit(X_train, y_train)\n",
    "stop = time.time()\n",
    "dt_fit_time = stop - start\n",
    "dt_fit_time"
   ]
  },
  {
   "cell_type": "code",
   "execution_count": 55,
   "metadata": {},
   "outputs": [
    {
     "data": {
      "text/plain": [
       "0.9944320352206144"
      ]
     },
     "execution_count": 55,
     "metadata": {},
     "output_type": "execute_result"
    }
   ],
   "source": [
    "dt_train_score = dt.score(X_train,y_train)\n",
    "dt_train_score"
   ]
  },
  {
   "cell_type": "code",
   "execution_count": 56,
   "metadata": {},
   "outputs": [
    {
     "data": {
      "text/plain": [
       "0.841313003787511"
      ]
     },
     "execution_count": 56,
     "metadata": {},
     "output_type": "execute_result"
    }
   ],
   "source": [
    "dt_test_score = dt.score(X_test,y_test)\n",
    "dt_test_score"
   ]
  },
  {
   "cell_type": "code",
   "execution_count": 57,
   "metadata": {},
   "outputs": [
    {
     "data": {
      "image/png": "[encoded data removed]",
      "text/plain": [
       "<Figure size 432x288 with 2 Axes>"
      ]
     },
     "metadata": {
      "needs_background": "light"
     },
     "output_type": "display_data"
    }
   ],
   "source": [
    "dt_preds = dt.predict(X_test)\n",
    "confusion_mat = confusion_matrix(y_test, dt_preds, labels=dt.classes_)\n",
    "disp = ConfusionMatrixDisplay(confusion_matrix=confusion_mat ,display_labels = ['0', '1'])\n",
    "disp.plot()\n",
    "plt.show()"
   ]
  },
  {
   "cell_type": "markdown",
   "metadata": {},
   "source": [
    "#### SVM"
   ]
  },
  {
   "cell_type": "code",
   "execution_count": 58,
   "metadata": {},
   "outputs": [
    {
     "data": {
      "text/plain": [
       "75.72347807884216"
      ]
     },
     "execution_count": 58,
     "metadata": {},
     "output_type": "execute_result"
    }
   ],
   "source": [
    "start = time.time()\n",
    "svc =  SVC().fit(X_train, y_train)\n",
    "stop = time.time()\n",
    "svc_fit_time = stop - start\n",
    "svc_fit_time"
   ]
  },
  {
   "cell_type": "code",
   "execution_count": 59,
   "metadata": {},
   "outputs": [
    {
     "data": {
      "text/plain": [
       "0.9020426661487164"
      ]
     },
     "execution_count": 59,
     "metadata": {},
     "output_type": "execute_result"
    }
   ],
   "source": [
    "svc_train_score = svc.score(X_train,y_train)\n",
    "svc_train_score"
   ]
  },
  {
   "cell_type": "code",
   "execution_count": 60,
   "metadata": {},
   "outputs": [
    {
     "data": {
      "text/plain": [
       "0.9001650966300865"
      ]
     },
     "execution_count": 60,
     "metadata": {},
     "output_type": "execute_result"
    }
   ],
   "source": [
    "svc_test_score = svc.score(X_test,y_test)\n",
    "svc_test_score"
   ]
  },
  {
   "cell_type": "code",
   "execution_count": 62,
   "metadata": {},
   "outputs": [
    {
     "data": {
      "image/png": "[encoded data removed]",
      "text/plain": [
       "<Figure size 432x288 with 2 Axes>"
      ]
     },
     "metadata": {
      "needs_background": "light"
     },
     "output_type": "display_data"
    }
   ],
   "source": [
    "svc_preds = svc.predict(X_test)\n",
    "confusion_mat = confusion_matrix(y_test, svc_preds, labels=svc.classes_)\n",
    "disp = ConfusionMatrixDisplay(confusion_matrix=confusion_mat ,display_labels = ['0', '1'])\n",
    "disp.plot()\n",
    "plt.show()"
   ]
  },
  {
   "cell_type": "code",
   "execution_count": 130,
   "metadata": {},
   "outputs": [
    {
     "data": {
      "text/html": [
       "<div>\n",
       "<style scoped>\n",
       "    .dataframe tbody tr th:only-of-type {\n",
       "        vertical-align: middle;\n",
       "    }\n",
       "\n",
       "    .dataframe tbody tr th {\n",
       "        vertical-align: top;\n",
       "    }\n",
       "\n",
       "    .dataframe thead th {\n",
       "        text-align: right;\n",
       "    }\n",
       "</style>\n",
       "<table border=\"1\" class=\"dataframe\">\n",
       "  <thead>\n",
       "    <tr style=\"text-align: right;\">\n",
       "      <th></th>\n",
       "      <th>Model</th>\n",
       "      <th>Train Time</th>\n",
       "      <th>Train Accuracy</th>\n",
       "      <th>Test Accuracy</th>\n",
       "    </tr>\n",
       "  </thead>\n",
       "  <tbody>\n",
       "    <tr>\n",
       "      <th>0</th>\n",
       "      <td>Logistic Regression</td>\n",
       "      <td>0.074878</td>\n",
       "      <td>0.898223</td>\n",
       "      <td>0.900748</td>\n",
       "    </tr>\n",
       "    <tr>\n",
       "      <th>3</th>\n",
       "      <td>SVC</td>\n",
       "      <td>75.723478</td>\n",
       "      <td>0.902043</td>\n",
       "      <td>0.900165</td>\n",
       "    </tr>\n",
       "    <tr>\n",
       "      <th>1</th>\n",
       "      <td>KNN</td>\n",
       "      <td>0.004384</td>\n",
       "      <td>0.910524</td>\n",
       "      <td>0.893173</td>\n",
       "    </tr>\n",
       "    <tr>\n",
       "      <th>2</th>\n",
       "      <td>Decision Tree</td>\n",
       "      <td>0.153470</td>\n",
       "      <td>0.994432</td>\n",
       "      <td>0.841313</td>\n",
       "    </tr>\n",
       "  </tbody>\n",
       "</table>\n",
       "</div>"
      ],
      "text/plain": [
       "                 Model  Train Time  Train Accuracy  Test Accuracy\n",
       "0  Logistic Regression    0.074878        0.898223       0.900748\n",
       "3                  SVC   75.723478        0.902043       0.900165\n",
       "1                  KNN    0.004384        0.910524       0.893173\n",
       "2        Decision Tree    0.153470        0.994432       0.841313"
      ]
     },
     "execution_count": 130,
     "metadata": {},
     "output_type": "execute_result"
    }
   ],
   "source": [
    "res_dict = {\n",
    "    'Model':['Logistic Regression','KNN','Decision Tree','SVC'],\n",
    "    'Train Time':[lgr_fit_time,knn_fit_time,dt_fit_time,svc_fit_time],\n",
    "    'Train Accuracy':[lgr_train_score,knn_train_score,dt_train_score,svc_train_score],\n",
    "    'Test Accuracy':[lgr_test_score,knn_test_score,dt_test_score,svc_test_score]}\n",
    "results_df = pd.DataFrame(res_dict)\n",
    "results_df.sort_values(by='Test Accuracy',ascending=False)"
   ]
  },
  {
   "cell_type": "markdown",
   "metadata": {},
   "source": [
    "### Problem 11: Improving the Model\n",
    "\n",
    "Now that we have some basic models on the board, we want to try to improve these.  Below, we list a few things to explore in this pursuit.\n",
    "\n",
    "- More feature engineering and exploration.  For example, should we keep the gender feature?  Why or why not?\n",
    "- Hyperparameter tuning and grid search.  All of our models have additional hyperparameters to tune and explore.  For example the number of neighbors in KNN or the maximum depth of a Decision Tree.  \n",
    "- Adjust your performance metric"
   ]
  },
  {
   "cell_type": "markdown",
   "metadata": {},
   "source": [
    "#### Dropping few more features"
   ]
  },
  {
   "cell_type": "code",
   "execution_count": 64,
   "metadata": {},
   "outputs": [
    {
     "data": {
      "text/plain": [
       "nr.employed             -0.354678\n",
       "poutcome_nonexistent    -0.193507\n",
       "contact_telephone       -0.144773\n",
       "cons.price.idx          -0.136211\n",
       "default_unknown         -0.099293\n",
       "job_blue-collar         -0.074423\n",
       "age                     -0.066357\n",
       "education_basic_9y      -0.045135\n",
       "marital_married         -0.043398\n",
       "job_services            -0.032301\n",
       "education_basic_6y      -0.023517\n",
       "job_entrepreneur        -0.016644\n",
       "housing_no              -0.011085\n",
       "education_basic_4y      -0.010798\n",
       "marital_divorced        -0.010608\n",
       "education_high_school   -0.007452\n",
       "job_housemaid           -0.006505\n",
       "job_technician          -0.006149\n",
       "job_self-employed       -0.004663\n",
       "loan_yes                -0.004466\n",
       "default_yes             -0.003041\n",
       "loan_unknown            -0.002270\n",
       "housing_unknown         -0.002270\n",
       "job_management          -0.000419\n",
       "job_unknown             -0.000151\n",
       "Name: y, dtype: float64"
      ]
     },
     "execution_count": 64,
     "metadata": {},
     "output_type": "execute_result"
    }
   ],
   "source": [
    "df_cleaned.corr().query('y<0')['y'].sort_values()"
   ]
  },
  {
   "cell_type": "code",
   "execution_count": 65,
   "metadata": {},
   "outputs": [],
   "source": [
    "del df_cleaned['nr.employed']"
   ]
  },
  {
   "cell_type": "code",
   "execution_count": 66,
   "metadata": {},
   "outputs": [
    {
     "data": {
      "text/plain": [
       "education_professional_course    0.001003\n",
       "loan_no                          0.005123\n",
       "marital_unknown                  0.005211\n",
       "education_illiterate             0.007246\n",
       "day_of_week                      0.010051\n",
       "housing_yes                      0.011743\n",
       "job_unemployed                   0.014752\n",
       "education_unknown                0.021430\n",
       "campaign                         0.030399\n",
       "job_admin                        0.031426\n",
       "poutcome_failure                 0.031799\n",
       "month                            0.037187\n",
       "education_university_degree      0.050364\n",
       "marital_single                   0.054133\n",
       "cons.conf.idx                    0.054878\n",
       "job_retired                      0.092221\n",
       "job_student                      0.093955\n",
       "default_no                       0.099344\n",
       "previous                         0.230181\n",
       "poutcome_success                 0.316269\n",
       "y                                1.000000\n",
       "Name: y, dtype: float64"
      ]
     },
     "execution_count": 66,
     "metadata": {},
     "output_type": "execute_result"
    }
   ],
   "source": [
    "df_cleaned.corr().query('y>0')['y'].sort_values()"
   ]
  },
  {
   "cell_type": "code",
   "execution_count": 67,
   "metadata": {},
   "outputs": [],
   "source": [
    "del df_cleaned['poutcome_success']"
   ]
  },
  {
   "cell_type": "code",
   "execution_count": 68,
   "metadata": {},
   "outputs": [
    {
     "data": {
      "text/plain": [
       "education_professional_course    0.001003\n",
       "loan_no                          0.005123\n",
       "marital_unknown                  0.005211\n",
       "education_illiterate             0.007246\n",
       "day_of_week                      0.010051\n",
       "housing_yes                      0.011743\n",
       "job_unemployed                   0.014752\n",
       "education_unknown                0.021430\n",
       "campaign                         0.030399\n",
       "job_admin                        0.031426\n",
       "poutcome_failure                 0.031799\n",
       "month                            0.037187\n",
       "education_university_degree      0.050364\n",
       "marital_single                   0.054133\n",
       "cons.conf.idx                    0.054878\n",
       "job_retired                      0.092221\n",
       "job_student                      0.093955\n",
       "default_no                       0.099344\n",
       "previous                         0.230181\n",
       "y                                1.000000\n",
       "Name: y, dtype: float64"
      ]
     },
     "execution_count": 68,
     "metadata": {},
     "output_type": "execute_result"
    }
   ],
   "source": [
    "df_cleaned.corr().query('y>0')['y'].sort_values()"
   ]
  },
  {
   "cell_type": "code",
   "execution_count": 69,
   "metadata": {},
   "outputs": [],
   "source": [
    "del df_cleaned['previous']"
   ]
  },
  {
   "cell_type": "markdown",
   "metadata": {},
   "source": [
    "#### GridSearch Logistic Regression"
   ]
  },
  {
   "cell_type": "code",
   "execution_count": 70,
   "metadata": {},
   "outputs": [
    {
     "name": "stdout",
     "output_type": "stream",
     "text": [
      "Fit time =  69.82814431190491\n"
     ]
    }
   ],
   "source": [
    "model = LogisticRegression()\n",
    "solvers = ['newton-cg', 'lbfgs', 'liblinear', 'sag', 'saga']\n",
    "penalty = ['none', 'l1', 'l2', 'elasticnet']\n",
    "c_values = [1.0, 0.1, 0.01]\n",
    "params = dict(solver=solvers,penalty=penalty,C=c_values)\n",
    "\n",
    "start = time.time()\n",
    "grid_lgr = GridSearchCV(estimator=model, param_grid=params)\n",
    "grid_result = grid_lgr.fit(X_train, y_train)\n",
    "stop = time.time()\n",
    "gs_lgr_fit_time = stop - start\n",
    "print(\"Fit time = \",gs_lgr_fit_time)"
   ]
  },
  {
   "cell_type": "code",
   "execution_count": 71,
   "metadata": {},
   "outputs": [
    {
     "data": {
      "text/plain": [
       "{'C': 0.01, 'penalty': 'l1', 'solver': 'liblinear'}"
      ]
     },
     "execution_count": 71,
     "metadata": {},
     "output_type": "execute_result"
    }
   ],
   "source": [
    "grid_lgr.best_params_"
   ]
  },
  {
   "cell_type": "code",
   "execution_count": 72,
   "metadata": {},
   "outputs": [
    {
     "data": {
      "text/plain": [
       "0.8987084199130807"
      ]
     },
     "execution_count": 72,
     "metadata": {},
     "output_type": "execute_result"
    }
   ],
   "source": [
    "gs_lgr_train_score = grid_lgr.best_score_\n",
    "gs_lgr_train_score"
   ]
  },
  {
   "cell_type": "code",
   "execution_count": 122,
   "metadata": {},
   "outputs": [
    {
     "data": {
      "text/plain": [
       "0.899970865300573"
      ]
     },
     "execution_count": 122,
     "metadata": {},
     "output_type": "execute_result"
    }
   ],
   "source": [
    "gs_lgr_test_score = grid_lgr.score(X_test, y_test)\n",
    "gs_lgr_test_score"
   ]
  },
  {
   "cell_type": "code",
   "execution_count": 95,
   "metadata": {},
   "outputs": [
    {
     "data": {
      "image/png": "[encoded data removed]",
      "text/plain": [
       "<Figure size 432x288 with 2 Axes>"
      ]
     },
     "metadata": {
      "needs_background": "light"
     },
     "output_type": "display_data"
    }
   ],
   "source": [
    "gs_lgr_preds = grid_lgr.predict(X_test)\n",
    "confusion_mat = confusion_matrix(y_test, gs_lgr_preds, labels=grid_lgr.classes_)\n",
    "disp = ConfusionMatrixDisplay(confusion_matrix=confusion_mat ,display_labels = ['0', '1'])\n",
    "disp.plot()\n",
    "plt.show()"
   ]
  },
  {
   "cell_type": "markdown",
   "metadata": {},
   "source": [
    "#### GridSearch KNN"
   ]
  },
  {
   "cell_type": "code",
   "execution_count": 74,
   "metadata": {},
   "outputs": [
    {
     "name": "stdout",
     "output_type": "stream",
     "text": [
      "Fit time =  990.9668900966644\n"
     ]
    }
   ],
   "source": [
    "model = KNeighborsClassifier()\n",
    "n_neighbors = range(1, 21, 2)\n",
    "weights = ['uniform', 'distance']\n",
    "metric = ['euclidean', 'manhattan', 'minkowski']\n",
    "params = dict(n_neighbors=n_neighbors,weights=weights,metric=metric)\n",
    "\n",
    "start = time.time()\n",
    "grid_knn = GridSearchCV(estimator=model, param_grid=params)\n",
    "grid_result = grid_knn.fit(X_train, y_train)\n",
    "stop = time.time()\n",
    "gs_knn_fit_time = stop - start\n",
    "print(\"Fit time = \",gs_knn_fit_time)"
   ]
  },
  {
   "cell_type": "code",
   "execution_count": 75,
   "metadata": {},
   "outputs": [
    {
     "data": {
      "text/plain": [
       "{'metric': 'manhattan', 'n_neighbors': 19, 'weights': 'uniform'}"
      ]
     },
     "execution_count": 75,
     "metadata": {},
     "output_type": "execute_result"
    }
   ],
   "source": [
    "grid_knn.best_params_"
   ]
  },
  {
   "cell_type": "code",
   "execution_count": 76,
   "metadata": {},
   "outputs": [
    {
     "data": {
      "text/plain": [
       "0.8968955878763328"
      ]
     },
     "execution_count": 76,
     "metadata": {},
     "output_type": "execute_result"
    }
   ],
   "source": [
    "gs_knn_train_score = grid_knn.best_score_\n",
    "gs_knn_train_score"
   ]
  },
  {
   "cell_type": "code",
   "execution_count": 77,
   "metadata": {},
   "outputs": [
    {
     "data": {
      "text/plain": [
       "0.899291055647276"
      ]
     },
     "execution_count": 77,
     "metadata": {},
     "output_type": "execute_result"
    }
   ],
   "source": [
    "gs_knn_test_score = grid_knn.score(X_test, y_test)\n",
    "gs_knn_test_score"
   ]
  },
  {
   "cell_type": "code",
   "execution_count": 94,
   "metadata": {},
   "outputs": [
    {
     "data": {
      "image/png": "[encoded data removed]",
      "text/plain": [
       "<Figure size 432x288 with 2 Axes>"
      ]
     },
     "metadata": {
      "needs_background": "light"
     },
     "output_type": "display_data"
    }
   ],
   "source": [
    "gs_knn_preds = grid_knn.predict(X_test)\n",
    "confusion_mat = confusion_matrix(y_test, gs_knn_preds, labels=grid_knn.classes_)\n",
    "disp = ConfusionMatrixDisplay(confusion_matrix=confusion_mat ,display_labels = ['0', '1'])\n",
    "disp.plot()\n",
    "plt.show()"
   ]
  },
  {
   "cell_type": "code",
   "execution_count": null,
   "metadata": {},
   "outputs": [],
   "source": []
  },
  {
   "cell_type": "code",
   "execution_count": null,
   "metadata": {},
   "outputs": [],
   "source": []
  },
  {
   "cell_type": "markdown",
   "metadata": {},
   "source": [
    "#### GridSearch Decision Tree"
   ]
  },
  {
   "cell_type": "code",
   "execution_count": 80,
   "metadata": {},
   "outputs": [
    {
     "name": "stdout",
     "output_type": "stream",
     "text": [
      "Fit time =  28.713449001312256\n"
     ]
    }
   ],
   "source": [
    "model = DecisionTreeClassifier()\n",
    "\n",
    "splitter = [\"best\",\"random\"]\n",
    "max_depth = range(1, 21, 2)\n",
    "min_samples_leaf = range(1, 11, 2)\n",
    "\n",
    "params = dict(splitter=splitter,max_depth=max_depth,min_samples_leaf=min_samples_leaf)\n",
    "\n",
    "start = time.time()\n",
    "grid_dt = GridSearchCV(estimator=model, param_grid=params)\n",
    "grid_result = grid_dt.fit(X_train, y_train)\n",
    "stop = time.time()\n",
    "gs_dt_fit_time = stop - start\n",
    "print(\"Fit time = \",gs_dt_fit_time)"
   ]
  },
  {
   "cell_type": "code",
   "execution_count": 81,
   "metadata": {},
   "outputs": [
    {
     "data": {
      "text/plain": [
       "{'max_depth': 5, 'min_samples_leaf': 5, 'splitter': 'random'}"
      ]
     },
     "execution_count": 81,
     "metadata": {},
     "output_type": "execute_result"
    }
   ],
   "source": [
    "grid_dt.best_params_"
   ]
  },
  {
   "cell_type": "code",
   "execution_count": 82,
   "metadata": {},
   "outputs": [
    {
     "data": {
      "text/plain": [
       "0.8999061347264261"
      ]
     },
     "execution_count": 82,
     "metadata": {},
     "output_type": "execute_result"
    }
   ],
   "source": [
    "gs_dt_train_score = grid_dt.best_score_\n",
    "gs_dt_train_score"
   ]
  },
  {
   "cell_type": "code",
   "execution_count": 83,
   "metadata": {},
   "outputs": [
    {
     "data": {
      "text/plain": [
       "0.9011362532776537"
      ]
     },
     "execution_count": 83,
     "metadata": {},
     "output_type": "execute_result"
    }
   ],
   "source": [
    "gs_dt_test_score = grid_dt.score(X_test, y_test)\n",
    "gs_dt_test_score"
   ]
  },
  {
   "cell_type": "code",
   "execution_count": 93,
   "metadata": {},
   "outputs": [
    {
     "data": {
      "image/png": "[encoded data removed]",
      "text/plain": [
       "<Figure size 432x288 with 2 Axes>"
      ]
     },
     "metadata": {
      "needs_background": "light"
     },
     "output_type": "display_data"
    }
   ],
   "source": [
    "gs_dt_preds = grid_dt.predict(X_test)\n",
    "confusion_mat = confusion_matrix(y_test, gs_dt_preds, labels=grid_dt.classes_)\n",
    "disp = ConfusionMatrixDisplay(confusion_matrix=confusion_mat ,display_labels = ['0', '1'])\n",
    "disp.plot()\n",
    "plt.show()"
   ]
  },
  {
   "cell_type": "markdown",
   "metadata": {},
   "source": [
    "#### GridSearch SVM"
   ]
  },
  {
   "cell_type": "code",
   "execution_count": 84,
   "metadata": {},
   "outputs": [
    {
     "name": "stdout",
     "output_type": "stream",
     "text": [
      "Fit time =  1108.7877037525177\n"
     ]
    }
   ],
   "source": [
    "model = SVC()\n",
    "kernel = ['poly', 'rbf', 'sigmoid']\n",
    "C = [1.0, 0.1, 0.01]\n",
    "params = dict(kernel=kernel,C=C)\n",
    "\n",
    "start = time.time()\n",
    "grid_svm = GridSearchCV(estimator=model, param_grid=params)\n",
    "grid_result = grid_svm.fit(X_train, y_train)\n",
    "stop = time.time()\n",
    "gs_svm_fit_time = stop - start\n",
    "print(\"Fit time = \",gs_svm_fit_time)"
   ]
  },
  {
   "cell_type": "code",
   "execution_count": 85,
   "metadata": {},
   "outputs": [
    {
     "data": {
      "text/plain": [
       "{'C': 0.01, 'kernel': 'poly'}"
      ]
     },
     "execution_count": 85,
     "metadata": {},
     "output_type": "execute_result"
    }
   ],
   "source": [
    "grid_svm.best_params_"
   ]
  },
  {
   "cell_type": "code",
   "execution_count": 86,
   "metadata": {},
   "outputs": [
    {
     "data": {
      "text/plain": [
       "0.8980933341247997"
      ]
     },
     "execution_count": 86,
     "metadata": {},
     "output_type": "execute_result"
    }
   ],
   "source": [
    "gs_svm_train_score = grid_svm.best_score_\n",
    "gs_svm_train_score"
   ]
  },
  {
   "cell_type": "code",
   "execution_count": 87,
   "metadata": {},
   "outputs": [
    {
     "data": {
      "text/plain": [
       "0.8995824026415461"
      ]
     },
     "execution_count": 87,
     "metadata": {},
     "output_type": "execute_result"
    }
   ],
   "source": [
    "gs_svm_test_score = grid_svm.score(X_test, y_test)\n",
    "gs_svm_test_score"
   ]
  },
  {
   "cell_type": "code",
   "execution_count": 92,
   "metadata": {},
   "outputs": [
    {
     "data": {
      "image/png": "[encoded data removed]",
      "text/plain": [
       "<Figure size 432x288 with 2 Axes>"
      ]
     },
     "metadata": {
      "needs_background": "light"
     },
     "output_type": "display_data"
    }
   ],
   "source": [
    "gs_svm_preds = grid_svm.predict(X_test)\n",
    "confusion_mat = confusion_matrix(y_test, gs_svm_preds, labels=grid_svm.classes_)\n",
    "disp = ConfusionMatrixDisplay(confusion_matrix=confusion_mat ,display_labels = ['0', '1'])\n",
    "disp.plot()\n",
    "plt.show()"
   ]
  },
  {
   "cell_type": "code",
   "execution_count": null,
   "metadata": {},
   "outputs": [],
   "source": []
  },
  {
   "cell_type": "code",
   "execution_count": 127,
   "metadata": {},
   "outputs": [
    {
     "data": {
      "text/html": [
       "<div>\n",
       "<style scoped>\n",
       "    .dataframe tbody tr th:only-of-type {\n",
       "        vertical-align: middle;\n",
       "    }\n",
       "\n",
       "    .dataframe tbody tr th {\n",
       "        vertical-align: top;\n",
       "    }\n",
       "\n",
       "    .dataframe thead th {\n",
       "        text-align: right;\n",
       "    }\n",
       "</style>\n",
       "<table border=\"1\" class=\"dataframe\">\n",
       "  <thead>\n",
       "    <tr style=\"text-align: right;\">\n",
       "      <th></th>\n",
       "      <th>Model</th>\n",
       "      <th>Train Time</th>\n",
       "      <th>Train Accuracy</th>\n",
       "      <th>Test Accuracy</th>\n",
       "    </tr>\n",
       "  </thead>\n",
       "  <tbody>\n",
       "    <tr>\n",
       "      <th>2</th>\n",
       "      <td>Decision Tree</td>\n",
       "      <td>28.713449</td>\n",
       "      <td>0.899906</td>\n",
       "      <td>0.901136</td>\n",
       "    </tr>\n",
       "    <tr>\n",
       "      <th>0</th>\n",
       "      <td>Logistic Regression</td>\n",
       "      <td>69.828144</td>\n",
       "      <td>0.898708</td>\n",
       "      <td>0.899971</td>\n",
       "    </tr>\n",
       "    <tr>\n",
       "      <th>3</th>\n",
       "      <td>SVC</td>\n",
       "      <td>1108.787704</td>\n",
       "      <td>0.898093</td>\n",
       "      <td>0.899582</td>\n",
       "    </tr>\n",
       "    <tr>\n",
       "      <th>1</th>\n",
       "      <td>KNN</td>\n",
       "      <td>990.966890</td>\n",
       "      <td>0.896896</td>\n",
       "      <td>0.899291</td>\n",
       "    </tr>\n",
       "  </tbody>\n",
       "</table>\n",
       "</div>"
      ],
      "text/plain": [
       "                 Model   Train Time  Train Accuracy  Test Accuracy\n",
       "2        Decision Tree    28.713449        0.899906       0.901136\n",
       "0  Logistic Regression    69.828144        0.898708       0.899971\n",
       "3                  SVC  1108.787704        0.898093       0.899582\n",
       "1                  KNN   990.966890        0.896896       0.899291"
      ]
     },
     "execution_count": 127,
     "metadata": {},
     "output_type": "execute_result"
    }
   ],
   "source": [
    "gs_res_dict = {\n",
    "    'Model':['Logistic Regression','KNN','Decision Tree','SVC'],\n",
    "    'Train Time':[gs_lgr_fit_time,gs_knn_fit_time,gs_dt_fit_time,gs_svm_fit_time],\n",
    "    'Train Accuracy':[gs_lgr_train_score,gs_knn_train_score,gs_dt_train_score,gs_svm_train_score],\n",
    "    'Test Accuracy':[gs_lgr_test_score,gs_knn_test_score,gs_dt_test_score,gs_svm_test_score]}\n",
    "gs_results_df = pd.DataFrame(gs_res_dict)\n",
    "gs_results_df.sort_values(by='Test Accuracy',ascending=False)"
   ]
  },
  {
   "cell_type": "markdown",
   "metadata": {},
   "source": [
    "### Observations"
   ]
  },
  {
   "cell_type": "markdown",
   "metadata": {},
   "source": [
    "#### Base model performance"
   ]
  },
  {
   "cell_type": "code",
   "execution_count": 131,
   "metadata": {},
   "outputs": [
    {
     "data": {
      "text/html": [
       "<div>\n",
       "<style scoped>\n",
       "    .dataframe tbody tr th:only-of-type {\n",
       "        vertical-align: middle;\n",
       "    }\n",
       "\n",
       "    .dataframe tbody tr th {\n",
       "        vertical-align: top;\n",
       "    }\n",
       "\n",
       "    .dataframe thead th {\n",
       "        text-align: right;\n",
       "    }\n",
       "</style>\n",
       "<table border=\"1\" class=\"dataframe\">\n",
       "  <thead>\n",
       "    <tr style=\"text-align: right;\">\n",
       "      <th></th>\n",
       "      <th>Model</th>\n",
       "      <th>Train Time</th>\n",
       "      <th>Train Accuracy</th>\n",
       "      <th>Test Accuracy</th>\n",
       "    </tr>\n",
       "  </thead>\n",
       "  <tbody>\n",
       "    <tr>\n",
       "      <th>0</th>\n",
       "      <td>Logistic Regression</td>\n",
       "      <td>0.074878</td>\n",
       "      <td>0.898223</td>\n",
       "      <td>0.900748</td>\n",
       "    </tr>\n",
       "    <tr>\n",
       "      <th>3</th>\n",
       "      <td>SVC</td>\n",
       "      <td>75.723478</td>\n",
       "      <td>0.902043</td>\n",
       "      <td>0.900165</td>\n",
       "    </tr>\n",
       "    <tr>\n",
       "      <th>1</th>\n",
       "      <td>KNN</td>\n",
       "      <td>0.004384</td>\n",
       "      <td>0.910524</td>\n",
       "      <td>0.893173</td>\n",
       "    </tr>\n",
       "    <tr>\n",
       "      <th>2</th>\n",
       "      <td>Decision Tree</td>\n",
       "      <td>0.153470</td>\n",
       "      <td>0.994432</td>\n",
       "      <td>0.841313</td>\n",
       "    </tr>\n",
       "  </tbody>\n",
       "</table>\n",
       "</div>"
      ],
      "text/plain": [
       "                 Model  Train Time  Train Accuracy  Test Accuracy\n",
       "0  Logistic Regression    0.074878        0.898223       0.900748\n",
       "3                  SVC   75.723478        0.902043       0.900165\n",
       "1                  KNN    0.004384        0.910524       0.893173\n",
       "2        Decision Tree    0.153470        0.994432       0.841313"
      ]
     },
     "execution_count": 131,
     "metadata": {},
     "output_type": "execute_result"
    }
   ],
   "source": [
    "results_df.sort_values(by='Test Accuracy',ascending=False)"
   ]
  },
  {
   "cell_type": "markdown",
   "metadata": {},
   "source": [
    "#### Best model performance (using grid search)"
   ]
  },
  {
   "cell_type": "code",
   "execution_count": 129,
   "metadata": {},
   "outputs": [
    {
     "data": {
      "text/html": [
       "<div>\n",
       "<style scoped>\n",
       "    .dataframe tbody tr th:only-of-type {\n",
       "        vertical-align: middle;\n",
       "    }\n",
       "\n",
       "    .dataframe tbody tr th {\n",
       "        vertical-align: top;\n",
       "    }\n",
       "\n",
       "    .dataframe thead th {\n",
       "        text-align: right;\n",
       "    }\n",
       "</style>\n",
       "<table border=\"1\" class=\"dataframe\">\n",
       "  <thead>\n",
       "    <tr style=\"text-align: right;\">\n",
       "      <th></th>\n",
       "      <th>Model</th>\n",
       "      <th>Train Time</th>\n",
       "      <th>Train Accuracy</th>\n",
       "      <th>Test Accuracy</th>\n",
       "    </tr>\n",
       "  </thead>\n",
       "  <tbody>\n",
       "    <tr>\n",
       "      <th>2</th>\n",
       "      <td>Decision Tree</td>\n",
       "      <td>28.713449</td>\n",
       "      <td>0.899906</td>\n",
       "      <td>0.901136</td>\n",
       "    </tr>\n",
       "    <tr>\n",
       "      <th>0</th>\n",
       "      <td>Logistic Regression</td>\n",
       "      <td>69.828144</td>\n",
       "      <td>0.898708</td>\n",
       "      <td>0.899971</td>\n",
       "    </tr>\n",
       "    <tr>\n",
       "      <th>3</th>\n",
       "      <td>SVC</td>\n",
       "      <td>1108.787704</td>\n",
       "      <td>0.898093</td>\n",
       "      <td>0.899582</td>\n",
       "    </tr>\n",
       "    <tr>\n",
       "      <th>1</th>\n",
       "      <td>KNN</td>\n",
       "      <td>990.966890</td>\n",
       "      <td>0.896896</td>\n",
       "      <td>0.899291</td>\n",
       "    </tr>\n",
       "  </tbody>\n",
       "</table>\n",
       "</div>"
      ],
      "text/plain": [
       "                 Model   Train Time  Train Accuracy  Test Accuracy\n",
       "2        Decision Tree    28.713449        0.899906       0.901136\n",
       "0  Logistic Regression    69.828144        0.898708       0.899971\n",
       "3                  SVC  1108.787704        0.898093       0.899582\n",
       "1                  KNN   990.966890        0.896896       0.899291"
      ]
     },
     "execution_count": 129,
     "metadata": {},
     "output_type": "execute_result"
    }
   ],
   "source": [
    "gs_results_df.sort_values(by='Test Accuracy',ascending=False)"
   ]
  },
  {
   "cell_type": "markdown",
   "metadata": {},
   "source": [
    "From above observation, even though Logistic Regression trumped in basic form , DecisionTree classifier does best overall. The decision tree classifer \n",
    "performed best with max_depth = 5 / min_samples_leaf= 5 and splitter= random.\n",
    "\n",
    "Due to lack of computation, we could not try more options for different hyper parameters , so we can run grid search for wider range of hyper parameters.\n"
   ]
  },
  {
   "cell_type": "code",
   "execution_count": null,
   "metadata": {},
   "outputs": [],
   "source": []
  }
 ],
 "metadata": {
  "kernelspec": {
   "display_name": "Python 3 (ipykernel)",
   "language": "python",
   "name": "python3"
  },
  "language_info": {
   "codemirror_mode": {
    "name": "ipython",
    "version": 3
   },
   "file_extension": ".py",
   "mimetype": "text/x-python",
   "name": "python",
   "nbconvert_exporter": "python",
   "pygments_lexer": "ipython3",
   "version": "3.9.7"
  },
  "widgets": {
   "application/vnd.jupyter.widget-state+json": {
    "state": {},
    "version_major": 2,
    "version_minor": 0
   }
  }
 },
 "nbformat": 4,
 "nbformat_minor": 4
}
